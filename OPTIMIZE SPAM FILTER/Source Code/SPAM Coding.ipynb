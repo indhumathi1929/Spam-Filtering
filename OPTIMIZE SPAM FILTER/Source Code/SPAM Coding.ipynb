{
  "cells": [
    {
      "cell_type": "markdown",
      "metadata": {
        "id": "jtssHL9CiOHP"
      },
      "source": [
        "OPTIMIZING SPAM FILTERING WITH MACHINE LEARNING\n",
        "\n"
      ]
    },
    {
      "cell_type": "markdown",
      "metadata": {
        "id": "8Gxg8PrEi8sp"
      },
      "source": [
        "Importing Libraries"
      ]
    },
    {
      "cell_type": "code",
      "execution_count": 1,
      "metadata": {
        "id": "fKLjrHFCL-kr"
      },
      "outputs": [],
      "source": [
        "import numpy as np\n",
        "import pandas as pd\n",
        "import matplotlib.pyplot as plt\n",
        "import nltk\n",
        "from nltk.corpus import stopwords\n",
        "from nltk.stem.porter import PorterStemmer"
      ]
    },
    {
      "cell_type": "markdown",
      "metadata": {
        "id": "3qYI2V_XibGh"
      },
      "source": [
        "Collect and Read The DataSet"
      ]
    },
    {
      "cell_type": "markdown",
      "metadata": {
        "id": "FF72vElnjiqA"
      },
      "source": [
        "Handling Missing Values"
      ]
    },
    {
      "cell_type": "code",
      "execution_count": 2,
      "metadata": {
        "colab": {
          "base_uri": "https://localhost:8080/",
          "height": 204
        },
        "id": "XIZLyUkzT5eI",
        "outputId": "30886125-5dee-4bae-e1b1-c7adc12215ba"
      },
      "outputs": [
        {
          "output_type": "execute_result",
          "data": {
            "text/plain": [
              "   Unnamed: 0 label                                               text  \\\n",
              "0         605   ham  Subject: enron methanol ; meter # : 988291\\r\\n...   \n",
              "1        2349   ham  Subject: hpl nom for january 9 , 2001\\r\\n( see...   \n",
              "2        3624   ham  Subject: neon retreat\\r\\nho ho ho , we ' re ar...   \n",
              "3        4685  spam  Subject: photoshop , windows , office . cheap ...   \n",
              "4        2030   ham  Subject: re : indian springs\\r\\nthis deal is t...   \n",
              "\n",
              "   label_num  \n",
              "0          0  \n",
              "1          0  \n",
              "2          0  \n",
              "3          1  \n",
              "4          0  "
            ],
            "text/html": [
              "\n",
              "  <div id=\"df-761a9d10-0b8c-40e3-8fc0-cdff6fa2240f\">\n",
              "    <div class=\"colab-df-container\">\n",
              "      <div>\n",
              "<style scoped>\n",
              "    .dataframe tbody tr th:only-of-type {\n",
              "        vertical-align: middle;\n",
              "    }\n",
              "\n",
              "    .dataframe tbody tr th {\n",
              "        vertical-align: top;\n",
              "    }\n",
              "\n",
              "    .dataframe thead th {\n",
              "        text-align: right;\n",
              "    }\n",
              "</style>\n",
              "<table border=\"1\" class=\"dataframe\">\n",
              "  <thead>\n",
              "    <tr style=\"text-align: right;\">\n",
              "      <th></th>\n",
              "      <th>Unnamed: 0</th>\n",
              "      <th>label</th>\n",
              "      <th>text</th>\n",
              "      <th>label_num</th>\n",
              "    </tr>\n",
              "  </thead>\n",
              "  <tbody>\n",
              "    <tr>\n",
              "      <th>0</th>\n",
              "      <td>605</td>\n",
              "      <td>ham</td>\n",
              "      <td>Subject: enron methanol ; meter # : 988291\\r\\n...</td>\n",
              "      <td>0</td>\n",
              "    </tr>\n",
              "    <tr>\n",
              "      <th>1</th>\n",
              "      <td>2349</td>\n",
              "      <td>ham</td>\n",
              "      <td>Subject: hpl nom for january 9 , 2001\\r\\n( see...</td>\n",
              "      <td>0</td>\n",
              "    </tr>\n",
              "    <tr>\n",
              "      <th>2</th>\n",
              "      <td>3624</td>\n",
              "      <td>ham</td>\n",
              "      <td>Subject: neon retreat\\r\\nho ho ho , we ' re ar...</td>\n",
              "      <td>0</td>\n",
              "    </tr>\n",
              "    <tr>\n",
              "      <th>3</th>\n",
              "      <td>4685</td>\n",
              "      <td>spam</td>\n",
              "      <td>Subject: photoshop , windows , office . cheap ...</td>\n",
              "      <td>1</td>\n",
              "    </tr>\n",
              "    <tr>\n",
              "      <th>4</th>\n",
              "      <td>2030</td>\n",
              "      <td>ham</td>\n",
              "      <td>Subject: re : indian springs\\r\\nthis deal is t...</td>\n",
              "      <td>0</td>\n",
              "    </tr>\n",
              "  </tbody>\n",
              "</table>\n",
              "</div>\n",
              "      <button class=\"colab-df-convert\" onclick=\"convertToInteractive('df-761a9d10-0b8c-40e3-8fc0-cdff6fa2240f')\"\n",
              "              title=\"Convert this dataframe to an interactive table.\"\n",
              "              style=\"display:none;\">\n",
              "        \n",
              "  <svg xmlns=\"http://www.w3.org/2000/svg\" height=\"24px\"viewBox=\"0 0 24 24\"\n",
              "       width=\"24px\">\n",
              "    <path d=\"M0 0h24v24H0V0z\" fill=\"none\"/>\n",
              "    <path d=\"M18.56 5.44l.94 2.06.94-2.06 2.06-.94-2.06-.94-.94-2.06-.94 2.06-2.06.94zm-11 1L8.5 8.5l.94-2.06 2.06-.94-2.06-.94L8.5 2.5l-.94 2.06-2.06.94zm10 10l.94 2.06.94-2.06 2.06-.94-2.06-.94-.94-2.06-.94 2.06-2.06.94z\"/><path d=\"M17.41 7.96l-1.37-1.37c-.4-.4-.92-.59-1.43-.59-.52 0-1.04.2-1.43.59L10.3 9.45l-7.72 7.72c-.78.78-.78 2.05 0 2.83L4 21.41c.39.39.9.59 1.41.59.51 0 1.02-.2 1.41-.59l7.78-7.78 2.81-2.81c.8-.78.8-2.07 0-2.86zM5.41 20L4 18.59l7.72-7.72 1.47 1.35L5.41 20z\"/>\n",
              "  </svg>\n",
              "      </button>\n",
              "      \n",
              "  <style>\n",
              "    .colab-df-container {\n",
              "      display:flex;\n",
              "      flex-wrap:wrap;\n",
              "      gap: 12px;\n",
              "    }\n",
              "\n",
              "    .colab-df-convert {\n",
              "      background-color: #E8F0FE;\n",
              "      border: none;\n",
              "      border-radius: 50%;\n",
              "      cursor: pointer;\n",
              "      display: none;\n",
              "      fill: #1967D2;\n",
              "      height: 32px;\n",
              "      padding: 0 0 0 0;\n",
              "      width: 32px;\n",
              "    }\n",
              "\n",
              "    .colab-df-convert:hover {\n",
              "      background-color: #E2EBFA;\n",
              "      box-shadow: 0px 1px 2px rgba(60, 64, 67, 0.3), 0px 1px 3px 1px rgba(60, 64, 67, 0.15);\n",
              "      fill: #174EA6;\n",
              "    }\n",
              "\n",
              "    [theme=dark] .colab-df-convert {\n",
              "      background-color: #3B4455;\n",
              "      fill: #D2E3FC;\n",
              "    }\n",
              "\n",
              "    [theme=dark] .colab-df-convert:hover {\n",
              "      background-color: #434B5C;\n",
              "      box-shadow: 0px 1px 3px 1px rgba(0, 0, 0, 0.15);\n",
              "      filter: drop-shadow(0px 1px 2px rgba(0, 0, 0, 0.3));\n",
              "      fill: #FFFFFF;\n",
              "    }\n",
              "  </style>\n",
              "\n",
              "      <script>\n",
              "        const buttonEl =\n",
              "          document.querySelector('#df-761a9d10-0b8c-40e3-8fc0-cdff6fa2240f button.colab-df-convert');\n",
              "        buttonEl.style.display =\n",
              "          google.colab.kernel.accessAllowed ? 'block' : 'none';\n",
              "\n",
              "        async function convertToInteractive(key) {\n",
              "          const element = document.querySelector('#df-761a9d10-0b8c-40e3-8fc0-cdff6fa2240f');\n",
              "          const dataTable =\n",
              "            await google.colab.kernel.invokeFunction('convertToInteractive',\n",
              "                                                     [key], {});\n",
              "          if (!dataTable) return;\n",
              "\n",
              "          const docLinkHtml = 'Like what you see? Visit the ' +\n",
              "            '<a target=\"_blank\" href=https://colab.research.google.com/notebooks/data_table.ipynb>data table notebook</a>'\n",
              "            + ' to learn more about interactive tables.';\n",
              "          element.innerHTML = '';\n",
              "          dataTable['output_type'] = 'display_data';\n",
              "          await google.colab.output.renderOutput(dataTable, element);\n",
              "          const docLink = document.createElement('div');\n",
              "          docLink.innerHTML = docLinkHtml;\n",
              "          element.appendChild(docLink);\n",
              "        }\n",
              "      </script>\n",
              "    </div>\n",
              "  </div>\n",
              "  "
            ]
          },
          "metadata": {},
          "execution_count": 2
        }
      ],
      "source": [
        "#load our dataset\n",
        "df = pd.read_csv(\"/content/spam_ham_dataset.csv\")\n",
        "df.head()"
      ]
    },
    {
      "cell_type": "code",
      "execution_count": 3,
      "metadata": {
        "colab": {
          "base_uri": "https://localhost:8080/"
        },
        "id": "Aw0t6TUHNHAj",
        "outputId": "093c82e6-821d-4805-843e-7a5cec781ec1"
      },
      "outputs": [
        {
          "output_type": "execute_result",
          "data": {
            "text/plain": [
              "<bound method DataFrame.info of       Unnamed: 0 label                                               text  \\\n",
              "0            605   ham  Subject: enron methanol ; meter # : 988291\\r\\n...   \n",
              "1           2349   ham  Subject: hpl nom for january 9 , 2001\\r\\n( see...   \n",
              "2           3624   ham  Subject: neon retreat\\r\\nho ho ho , we ' re ar...   \n",
              "3           4685  spam  Subject: photoshop , windows , office . cheap ...   \n",
              "4           2030   ham  Subject: re : indian springs\\r\\nthis deal is t...   \n",
              "...          ...   ...                                                ...   \n",
              "5166        1518   ham  Subject: put the 10 on the ft\\r\\nthe transport...   \n",
              "5167         404   ham  Subject: 3 / 4 / 2000 and following noms\\r\\nhp...   \n",
              "5168        2933   ham  Subject: calpine daily gas nomination\\r\\n>\\r\\n...   \n",
              "5169        1409   ham  Subject: industrial worksheets for august 2000...   \n",
              "5170        4807  spam  Subject: important online banking alert\\r\\ndea...   \n",
              "\n",
              "      label_num  \n",
              "0             0  \n",
              "1             0  \n",
              "2             0  \n",
              "3             1  \n",
              "4             0  \n",
              "...         ...  \n",
              "5166          0  \n",
              "5167          0  \n",
              "5168          0  \n",
              "5169          0  \n",
              "5170          1  \n",
              "\n",
              "[5171 rows x 4 columns]>"
            ]
          },
          "metadata": {},
          "execution_count": 3
        }
      ],
      "source": [
        "df.info"
      ]
    },
    {
      "cell_type": "code",
      "execution_count": 4,
      "metadata": {
        "colab": {
          "base_uri": "https://localhost:8080/"
        },
        "id": "wFHEzjG_NLng",
        "outputId": "9812cb14-44c1-4cb4-c141-07ba66fabfc1"
      },
      "outputs": [
        {
          "output_type": "execute_result",
          "data": {
            "text/plain": [
              "<bound method NDFrame._add_numeric_operations.<locals>.sum of       Unnamed: 0  label   text  label_num\n",
              "0          False  False  False      False\n",
              "1          False  False  False      False\n",
              "2          False  False  False      False\n",
              "3          False  False  False      False\n",
              "4          False  False  False      False\n",
              "...          ...    ...    ...        ...\n",
              "5166       False  False  False      False\n",
              "5167       False  False  False      False\n",
              "5168       False  False  False      False\n",
              "5169       False  False  False      False\n",
              "5170       False  False  False      False\n",
              "\n",
              "[5171 rows x 4 columns]>"
            ]
          },
          "metadata": {},
          "execution_count": 4
        }
      ],
      "source": [
        "df.isna().sum"
      ]
    },
    {
      "cell_type": "code",
      "execution_count": 5,
      "metadata": {
        "colab": {
          "base_uri": "https://localhost:8080/",
          "height": 204
        },
        "id": "SGZpvy_gNSwv",
        "outputId": "55d518c0-1850-4b51-dde2-65247b90eca9"
      },
      "outputs": [
        {
          "output_type": "execute_result",
          "data": {
            "text/plain": [
              "      Unnamed: 0 SP_LABEL                                         SP_TEXT_GI  \\\n",
              "5166        1518      ham  Subject: put the 10 on the ft\\r\\nthe transport...   \n",
              "5167         404      ham  Subject: 3 / 4 / 2000 and following noms\\r\\nhp...   \n",
              "5168        2933      ham  Subject: calpine daily gas nomination\\r\\n>\\r\\n...   \n",
              "5169        1409      ham  Subject: industrial worksheets for august 2000...   \n",
              "5170        4807     spam  Subject: important online banking alert\\r\\ndea...   \n",
              "\n",
              "      label_num  \n",
              "5166          0  \n",
              "5167          0  \n",
              "5168          0  \n",
              "5169          0  \n",
              "5170          1  "
            ],
            "text/html": [
              "\n",
              "  <div id=\"df-17fd28c1-fe60-444f-ad3a-58a33f7a493c\">\n",
              "    <div class=\"colab-df-container\">\n",
              "      <div>\n",
              "<style scoped>\n",
              "    .dataframe tbody tr th:only-of-type {\n",
              "        vertical-align: middle;\n",
              "    }\n",
              "\n",
              "    .dataframe tbody tr th {\n",
              "        vertical-align: top;\n",
              "    }\n",
              "\n",
              "    .dataframe thead th {\n",
              "        text-align: right;\n",
              "    }\n",
              "</style>\n",
              "<table border=\"1\" class=\"dataframe\">\n",
              "  <thead>\n",
              "    <tr style=\"text-align: right;\">\n",
              "      <th></th>\n",
              "      <th>Unnamed: 0</th>\n",
              "      <th>SP_LABEL</th>\n",
              "      <th>SP_TEXT_GI</th>\n",
              "      <th>label_num</th>\n",
              "    </tr>\n",
              "  </thead>\n",
              "  <tbody>\n",
              "    <tr>\n",
              "      <th>5166</th>\n",
              "      <td>1518</td>\n",
              "      <td>ham</td>\n",
              "      <td>Subject: put the 10 on the ft\\r\\nthe transport...</td>\n",
              "      <td>0</td>\n",
              "    </tr>\n",
              "    <tr>\n",
              "      <th>5167</th>\n",
              "      <td>404</td>\n",
              "      <td>ham</td>\n",
              "      <td>Subject: 3 / 4 / 2000 and following noms\\r\\nhp...</td>\n",
              "      <td>0</td>\n",
              "    </tr>\n",
              "    <tr>\n",
              "      <th>5168</th>\n",
              "      <td>2933</td>\n",
              "      <td>ham</td>\n",
              "      <td>Subject: calpine daily gas nomination\\r\\n&gt;\\r\\n...</td>\n",
              "      <td>0</td>\n",
              "    </tr>\n",
              "    <tr>\n",
              "      <th>5169</th>\n",
              "      <td>1409</td>\n",
              "      <td>ham</td>\n",
              "      <td>Subject: industrial worksheets for august 2000...</td>\n",
              "      <td>0</td>\n",
              "    </tr>\n",
              "    <tr>\n",
              "      <th>5170</th>\n",
              "      <td>4807</td>\n",
              "      <td>spam</td>\n",
              "      <td>Subject: important online banking alert\\r\\ndea...</td>\n",
              "      <td>1</td>\n",
              "    </tr>\n",
              "  </tbody>\n",
              "</table>\n",
              "</div>\n",
              "      <button class=\"colab-df-convert\" onclick=\"convertToInteractive('df-17fd28c1-fe60-444f-ad3a-58a33f7a493c')\"\n",
              "              title=\"Convert this dataframe to an interactive table.\"\n",
              "              style=\"display:none;\">\n",
              "        \n",
              "  <svg xmlns=\"http://www.w3.org/2000/svg\" height=\"24px\"viewBox=\"0 0 24 24\"\n",
              "       width=\"24px\">\n",
              "    <path d=\"M0 0h24v24H0V0z\" fill=\"none\"/>\n",
              "    <path d=\"M18.56 5.44l.94 2.06.94-2.06 2.06-.94-2.06-.94-.94-2.06-.94 2.06-2.06.94zm-11 1L8.5 8.5l.94-2.06 2.06-.94-2.06-.94L8.5 2.5l-.94 2.06-2.06.94zm10 10l.94 2.06.94-2.06 2.06-.94-2.06-.94-.94-2.06-.94 2.06-2.06.94z\"/><path d=\"M17.41 7.96l-1.37-1.37c-.4-.4-.92-.59-1.43-.59-.52 0-1.04.2-1.43.59L10.3 9.45l-7.72 7.72c-.78.78-.78 2.05 0 2.83L4 21.41c.39.39.9.59 1.41.59.51 0 1.02-.2 1.41-.59l7.78-7.78 2.81-2.81c.8-.78.8-2.07 0-2.86zM5.41 20L4 18.59l7.72-7.72 1.47 1.35L5.41 20z\"/>\n",
              "  </svg>\n",
              "      </button>\n",
              "      \n",
              "  <style>\n",
              "    .colab-df-container {\n",
              "      display:flex;\n",
              "      flex-wrap:wrap;\n",
              "      gap: 12px;\n",
              "    }\n",
              "\n",
              "    .colab-df-convert {\n",
              "      background-color: #E8F0FE;\n",
              "      border: none;\n",
              "      border-radius: 50%;\n",
              "      cursor: pointer;\n",
              "      display: none;\n",
              "      fill: #1967D2;\n",
              "      height: 32px;\n",
              "      padding: 0 0 0 0;\n",
              "      width: 32px;\n",
              "    }\n",
              "\n",
              "    .colab-df-convert:hover {\n",
              "      background-color: #E2EBFA;\n",
              "      box-shadow: 0px 1px 2px rgba(60, 64, 67, 0.3), 0px 1px 3px 1px rgba(60, 64, 67, 0.15);\n",
              "      fill: #174EA6;\n",
              "    }\n",
              "\n",
              "    [theme=dark] .colab-df-convert {\n",
              "      background-color: #3B4455;\n",
              "      fill: #D2E3FC;\n",
              "    }\n",
              "\n",
              "    [theme=dark] .colab-df-convert:hover {\n",
              "      background-color: #434B5C;\n",
              "      box-shadow: 0px 1px 3px 1px rgba(0, 0, 0, 0.15);\n",
              "      filter: drop-shadow(0px 1px 2px rgba(0, 0, 0, 0.3));\n",
              "      fill: #FFFFFF;\n",
              "    }\n",
              "  </style>\n",
              "\n",
              "      <script>\n",
              "        const buttonEl =\n",
              "          document.querySelector('#df-17fd28c1-fe60-444f-ad3a-58a33f7a493c button.colab-df-convert');\n",
              "        buttonEl.style.display =\n",
              "          google.colab.kernel.accessAllowed ? 'block' : 'none';\n",
              "\n",
              "        async function convertToInteractive(key) {\n",
              "          const element = document.querySelector('#df-17fd28c1-fe60-444f-ad3a-58a33f7a493c');\n",
              "          const dataTable =\n",
              "            await google.colab.kernel.invokeFunction('convertToInteractive',\n",
              "                                                     [key], {});\n",
              "          if (!dataTable) return;\n",
              "\n",
              "          const docLinkHtml = 'Like what you see? Visit the ' +\n",
              "            '<a target=\"_blank\" href=https://colab.research.google.com/notebooks/data_table.ipynb>data table notebook</a>'\n",
              "            + ' to learn more about interactive tables.';\n",
              "          element.innerHTML = '';\n",
              "          dataTable['output_type'] = 'display_data';\n",
              "          await google.colab.output.renderOutput(dataTable, element);\n",
              "          const docLink = document.createElement('div');\n",
              "          docLink.innerHTML = docLinkHtml;\n",
              "          element.appendChild(docLink);\n",
              "        }\n",
              "      </script>\n",
              "    </div>\n",
              "  </div>\n",
              "  "
            ]
          },
          "metadata": {},
          "execution_count": 5
        }
      ],
      "source": [
        "df.rename({\"label\":\"SP_LABEL\",\"text\":\"SP_TEXT_GI\"},inplace=True,axis=1)\n",
        "df.tail()"
      ]
    },
    {
      "cell_type": "markdown",
      "metadata": {
        "id": "V5yOdu87jyio"
      },
      "source": [
        "Handling Categorical Values"
      ]
    },
    {
      "cell_type": "code",
      "execution_count": 6,
      "metadata": {
        "id": "9sF512NONs33"
      },
      "outputs": [],
      "source": [
        "from sklearn.preprocessing import LabelEncoder\n",
        "le=LabelEncoder()\n",
        "df['SP_LABEL']=le.fit_transform(df['SP_LABEL'])"
      ]
    },
    {
      "cell_type": "code",
      "execution_count": 7,
      "metadata": {
        "id": "iwdhDeQ5OxLT"
      },
      "outputs": [],
      "source": [
        "df.columns=['unnamed:0','SP_LABEL','SP_TEXT','label_num']"
      ]
    },
    {
      "cell_type": "code",
      "execution_count": 8,
      "metadata": {
        "colab": {
          "base_uri": "https://localhost:8080/",
          "height": 204
        },
        "id": "bZ_sxPx9Pcdq",
        "outputId": "1e9bb604-0ee0-4f39-b688-ba82bdba1e8c"
      },
      "outputs": [
        {
          "output_type": "execute_result",
          "data": {
            "text/plain": [
              "   unnamed:0  SP_LABEL                                            SP_TEXT  \\\n",
              "0        605         0  Subject: enron methanol ; meter # : 988291\\r\\n...   \n",
              "1       2349         0  Subject: hpl nom for january 9 , 2001\\r\\n( see...   \n",
              "2       3624         0  Subject: neon retreat\\r\\nho ho ho , we ' re ar...   \n",
              "3       4685         1  Subject: photoshop , windows , office . cheap ...   \n",
              "4       2030         0  Subject: re : indian springs\\r\\nthis deal is t...   \n",
              "\n",
              "   label_num  \n",
              "0          0  \n",
              "1          0  \n",
              "2          0  \n",
              "3          1  \n",
              "4          0  "
            ],
            "text/html": [
              "\n",
              "  <div id=\"df-e38dd5b1-5c09-4102-a394-06717574591c\">\n",
              "    <div class=\"colab-df-container\">\n",
              "      <div>\n",
              "<style scoped>\n",
              "    .dataframe tbody tr th:only-of-type {\n",
              "        vertical-align: middle;\n",
              "    }\n",
              "\n",
              "    .dataframe tbody tr th {\n",
              "        vertical-align: top;\n",
              "    }\n",
              "\n",
              "    .dataframe thead th {\n",
              "        text-align: right;\n",
              "    }\n",
              "</style>\n",
              "<table border=\"1\" class=\"dataframe\">\n",
              "  <thead>\n",
              "    <tr style=\"text-align: right;\">\n",
              "      <th></th>\n",
              "      <th>unnamed:0</th>\n",
              "      <th>SP_LABEL</th>\n",
              "      <th>SP_TEXT</th>\n",
              "      <th>label_num</th>\n",
              "    </tr>\n",
              "  </thead>\n",
              "  <tbody>\n",
              "    <tr>\n",
              "      <th>0</th>\n",
              "      <td>605</td>\n",
              "      <td>0</td>\n",
              "      <td>Subject: enron methanol ; meter # : 988291\\r\\n...</td>\n",
              "      <td>0</td>\n",
              "    </tr>\n",
              "    <tr>\n",
              "      <th>1</th>\n",
              "      <td>2349</td>\n",
              "      <td>0</td>\n",
              "      <td>Subject: hpl nom for january 9 , 2001\\r\\n( see...</td>\n",
              "      <td>0</td>\n",
              "    </tr>\n",
              "    <tr>\n",
              "      <th>2</th>\n",
              "      <td>3624</td>\n",
              "      <td>0</td>\n",
              "      <td>Subject: neon retreat\\r\\nho ho ho , we ' re ar...</td>\n",
              "      <td>0</td>\n",
              "    </tr>\n",
              "    <tr>\n",
              "      <th>3</th>\n",
              "      <td>4685</td>\n",
              "      <td>1</td>\n",
              "      <td>Subject: photoshop , windows , office . cheap ...</td>\n",
              "      <td>1</td>\n",
              "    </tr>\n",
              "    <tr>\n",
              "      <th>4</th>\n",
              "      <td>2030</td>\n",
              "      <td>0</td>\n",
              "      <td>Subject: re : indian springs\\r\\nthis deal is t...</td>\n",
              "      <td>0</td>\n",
              "    </tr>\n",
              "  </tbody>\n",
              "</table>\n",
              "</div>\n",
              "      <button class=\"colab-df-convert\" onclick=\"convertToInteractive('df-e38dd5b1-5c09-4102-a394-06717574591c')\"\n",
              "              title=\"Convert this dataframe to an interactive table.\"\n",
              "              style=\"display:none;\">\n",
              "        \n",
              "  <svg xmlns=\"http://www.w3.org/2000/svg\" height=\"24px\"viewBox=\"0 0 24 24\"\n",
              "       width=\"24px\">\n",
              "    <path d=\"M0 0h24v24H0V0z\" fill=\"none\"/>\n",
              "    <path d=\"M18.56 5.44l.94 2.06.94-2.06 2.06-.94-2.06-.94-.94-2.06-.94 2.06-2.06.94zm-11 1L8.5 8.5l.94-2.06 2.06-.94-2.06-.94L8.5 2.5l-.94 2.06-2.06.94zm10 10l.94 2.06.94-2.06 2.06-.94-2.06-.94-.94-2.06-.94 2.06-2.06.94z\"/><path d=\"M17.41 7.96l-1.37-1.37c-.4-.4-.92-.59-1.43-.59-.52 0-1.04.2-1.43.59L10.3 9.45l-7.72 7.72c-.78.78-.78 2.05 0 2.83L4 21.41c.39.39.9.59 1.41.59.51 0 1.02-.2 1.41-.59l7.78-7.78 2.81-2.81c.8-.78.8-2.07 0-2.86zM5.41 20L4 18.59l7.72-7.72 1.47 1.35L5.41 20z\"/>\n",
              "  </svg>\n",
              "      </button>\n",
              "      \n",
              "  <style>\n",
              "    .colab-df-container {\n",
              "      display:flex;\n",
              "      flex-wrap:wrap;\n",
              "      gap: 12px;\n",
              "    }\n",
              "\n",
              "    .colab-df-convert {\n",
              "      background-color: #E8F0FE;\n",
              "      border: none;\n",
              "      border-radius: 50%;\n",
              "      cursor: pointer;\n",
              "      display: none;\n",
              "      fill: #1967D2;\n",
              "      height: 32px;\n",
              "      padding: 0 0 0 0;\n",
              "      width: 32px;\n",
              "    }\n",
              "\n",
              "    .colab-df-convert:hover {\n",
              "      background-color: #E2EBFA;\n",
              "      box-shadow: 0px 1px 2px rgba(60, 64, 67, 0.3), 0px 1px 3px 1px rgba(60, 64, 67, 0.15);\n",
              "      fill: #174EA6;\n",
              "    }\n",
              "\n",
              "    [theme=dark] .colab-df-convert {\n",
              "      background-color: #3B4455;\n",
              "      fill: #D2E3FC;\n",
              "    }\n",
              "\n",
              "    [theme=dark] .colab-df-convert:hover {\n",
              "      background-color: #434B5C;\n",
              "      box-shadow: 0px 1px 3px 1px rgba(0, 0, 0, 0.15);\n",
              "      filter: drop-shadow(0px 1px 2px rgba(0, 0, 0, 0.3));\n",
              "      fill: #FFFFFF;\n",
              "    }\n",
              "  </style>\n",
              "\n",
              "      <script>\n",
              "        const buttonEl =\n",
              "          document.querySelector('#df-e38dd5b1-5c09-4102-a394-06717574591c button.colab-df-convert');\n",
              "        buttonEl.style.display =\n",
              "          google.colab.kernel.accessAllowed ? 'block' : 'none';\n",
              "\n",
              "        async function convertToInteractive(key) {\n",
              "          const element = document.querySelector('#df-e38dd5b1-5c09-4102-a394-06717574591c');\n",
              "          const dataTable =\n",
              "            await google.colab.kernel.invokeFunction('convertToInteractive',\n",
              "                                                     [key], {});\n",
              "          if (!dataTable) return;\n",
              "\n",
              "          const docLinkHtml = 'Like what you see? Visit the ' +\n",
              "            '<a target=\"_blank\" href=https://colab.research.google.com/notebooks/data_table.ipynb>data table notebook</a>'\n",
              "            + ' to learn more about interactive tables.';\n",
              "          element.innerHTML = '';\n",
              "          dataTable['output_type'] = 'display_data';\n",
              "          await google.colab.output.renderOutput(dataTable, element);\n",
              "          const docLink = document.createElement('div');\n",
              "          docLink.innerHTML = docLinkHtml;\n",
              "          element.appendChild(docLink);\n",
              "        }\n",
              "      </script>\n",
              "    </div>\n",
              "  </div>\n",
              "  "
            ]
          },
          "metadata": {},
          "execution_count": 8
        }
      ],
      "source": [
        "df.head()"
      ]
    },
    {
      "cell_type": "code",
      "execution_count": 9,
      "metadata": {
        "colab": {
          "base_uri": "https://localhost:8080/"
        },
        "id": "b6R3Z7-EPfhj",
        "outputId": "be630fee-1042-4086-8ed6-b447cf067806"
      },
      "outputs": [
        {
          "output_type": "execute_result",
          "data": {
            "text/plain": [
              "(5171, 4)"
            ]
          },
          "metadata": {},
          "execution_count": 9
        }
      ],
      "source": [
        "df.shape"
      ]
    },
    {
      "cell_type": "code",
      "execution_count": 10,
      "metadata": {
        "id": "_SOKQVoiPkr-"
      },
      "outputs": [],
      "source": [
        "X=df.loc[:,'SP_TEXT']\n",
        "y=df.loc[:,'label_num'].values"
      ]
    },
    {
      "cell_type": "code",
      "source": [
        "print(X)"
      ],
      "metadata": {
        "colab": {
          "base_uri": "https://localhost:8080/"
        },
        "id": "GIDNud0Rz0PL",
        "outputId": "0c7fed7f-03ee-4d84-f120-43ae296dbdd9"
      },
      "execution_count": 11,
      "outputs": [
        {
          "output_type": "stream",
          "name": "stdout",
          "text": [
            "0       Subject: enron methanol ; meter # : 988291\\r\\n...\n",
            "1       Subject: hpl nom for january 9 , 2001\\r\\n( see...\n",
            "2       Subject: neon retreat\\r\\nho ho ho , we ' re ar...\n",
            "3       Subject: photoshop , windows , office . cheap ...\n",
            "4       Subject: re : indian springs\\r\\nthis deal is t...\n",
            "                              ...                        \n",
            "5166    Subject: put the 10 on the ft\\r\\nthe transport...\n",
            "5167    Subject: 3 / 4 / 2000 and following noms\\r\\nhp...\n",
            "5168    Subject: calpine daily gas nomination\\r\\n>\\r\\n...\n",
            "5169    Subject: industrial worksheets for august 2000...\n",
            "5170    Subject: important online banking alert\\r\\ndea...\n",
            "Name: SP_TEXT, Length: 5171, dtype: object\n"
          ]
        }
      ]
    },
    {
      "cell_type": "code",
      "execution_count": 12,
      "metadata": {
        "colab": {
          "base_uri": "https://localhost:8080/",
          "height": 35
        },
        "id": "CgHy4HK9RDS2",
        "outputId": "ab4d5fab-8142-4ce7-9658-527c564e188f"
      },
      "outputs": [
        {
          "output_type": "execute_result",
          "data": {
            "text/plain": [
              "'Subject: hpl nom for january 9 , 2001\\r\\n( see attached file : hplnol 09 . xls )\\r\\n- hplnol 09 . xls'"
            ],
            "application/vnd.google.colaboratory.intrinsic+json": {
              "type": "string"
            }
          },
          "metadata": {},
          "execution_count": 12
        }
      ],
      "source": [
        "X[1]"
      ]
    },
    {
      "cell_type": "code",
      "execution_count": 13,
      "metadata": {
        "id": "wo-cvFnrRISH"
      },
      "outputs": [],
      "source": [
        "from sklearn.feature_extraction.text import CountVectorizer\n",
        "cv=CountVectorizer()\n",
        "\n",
        "X=cv.fit_transform(X).toarray()"
      ]
    },
    {
      "cell_type": "code",
      "execution_count": 14,
      "metadata": {
        "colab": {
          "base_uri": "https://localhost:8080/"
        },
        "id": "WV7Mw_SrRqt5",
        "outputId": "d48d4aa2-71d0-4328-aaa6-f6dbdfdaa413"
      },
      "outputs": [
        {
          "output_type": "execute_result",
          "data": {
            "text/plain": [
              "array([0, 0, 0, ..., 0, 0, 0])"
            ]
          },
          "metadata": {},
          "execution_count": 14
        }
      ],
      "source": [
        "X[1]"
      ]
    },
    {
      "cell_type": "markdown",
      "metadata": {
        "id": "GPkOrl94kAFa"
      },
      "source": [
        "Handling imbalance Data"
      ]
    },
    {
      "cell_type": "code",
      "execution_count": 15,
      "metadata": {
        "id": "p0EBQ9n5R8UZ"
      },
      "outputs": [],
      "source": [
        "from sklearn.model_selection import train_test_split\n",
        "X_train,X_test,y_train,y_test=train_test_split(X,y,test_size=0.3,random_state=0)"
      ]
    },
    {
      "cell_type": "code",
      "execution_count": 16,
      "metadata": {
        "colab": {
          "base_uri": "https://localhost:8080/"
        },
        "id": "gSQlMyZVSuDS",
        "outputId": "13d6699a-1493-4916-a769-e4b6b72696b1"
      },
      "outputs": [
        {
          "output_type": "stream",
          "name": "stdout",
          "text": [
            "Befor over sampling, counts of label '1':1075\n",
            "Befor over sampling, counts of label '0' :2544 \n",
            "\n"
          ]
        }
      ],
      "source": [
        "print(\"Befor over sampling, counts of label '1':{}\".format(sum(y_train==1)))\n",
        "print(\"Befor over sampling, counts of label '0' :{} \\n\".format(sum(y_train==0)))"
      ]
    },
    {
      "cell_type": "code",
      "execution_count": 17,
      "metadata": {
        "id": "_w9LK94oaD3e"
      },
      "outputs": [],
      "source": [
        "#import SMOTE\n",
        "from imblearn.over_sampling import SMOTE\n",
        "sm=SMOTE(random_state=2)\n",
        "X_train_res,y_train_res=sm.fit_resample(X_train,y_train.ravel())"
      ]
    },
    {
      "cell_type": "code",
      "execution_count": 18,
      "metadata": {
        "colab": {
          "base_uri": "https://localhost:8080/"
        },
        "id": "_2GZeYlta_5b",
        "outputId": "a7f37af9-53f9-44fc-c6fc-32cfc5cb842f"
      },
      "outputs": [
        {
          "output_type": "stream",
          "name": "stdout",
          "text": [
            " After oversampling, the shape of train_x:(5088, 50447)\n",
            " After oversampling, the shape of train_y:(5088,)\n",
            "\n"
          ]
        }
      ],
      "source": [
        "print(\" After oversampling, the shape of train_x:{}\".format (X_train_res.shape))\n",
        "print(\" After oversampling, the shape of train_y:{}\\n\".format (y_train_res.shape))"
      ]
    },
    {
      "cell_type": "code",
      "execution_count": 19,
      "metadata": {
        "colab": {
          "base_uri": "https://localhost:8080/"
        },
        "id": "4Z_TwDqhbb3y",
        "outputId": "f9ec82c7-8c4e-4892-c6b4-cd9917179dc9"
      },
      "outputs": [
        {
          "output_type": "stream",
          "name": "stdout",
          "text": [
            "After over sampling, counts of label '1':1075\n",
            "After over sampling, counts of label '0' :2544 \n",
            "\n"
          ]
        }
      ],
      "source": [
        "print(\"After over sampling, counts of label '1':{}\".format(sum(y_train==1)))\n",
        "print(\"After over sampling, counts of label '0' :{} \\n\".format(sum(y_train==0)))"
      ]
    },
    {
      "cell_type": "markdown",
      "metadata": {
        "id": "c9fNbu5okdGQ"
      },
      "source": [
        "Cleaning The Text Data"
      ]
    },
    {
      "cell_type": "code",
      "execution_count": 20,
      "metadata": {
        "colab": {
          "base_uri": "https://localhost:8080/"
        },
        "id": "qjbXbwgobrn-",
        "outputId": "03cc8f1b-ccd6-4062-b040-fd5cf4df5086"
      },
      "outputs": [
        {
          "output_type": "stream",
          "name": "stderr",
          "text": [
            "[nltk_data] Downloading package stopwords to /root/nltk_data...\n",
            "[nltk_data]   Package stopwords is already up-to-date!\n"
          ]
        },
        {
          "output_type": "execute_result",
          "data": {
            "text/plain": [
              "True"
            ]
          },
          "metadata": {},
          "execution_count": 20
        }
      ],
      "source": [
        "nltk.download(\"stopwords\")"
      ]
    },
    {
      "cell_type": "code",
      "execution_count": 21,
      "metadata": {
        "id": "TMZuna-nbxXG"
      },
      "outputs": [],
      "source": [
        "import nltk\n",
        "from nltk.corpus import stopwords\n",
        "from nltk.stem import PorterStemmer"
      ]
    },
    {
      "cell_type": "code",
      "execution_count": 22,
      "metadata": {
        "id": "y8WW7X1McCYH"
      },
      "outputs": [],
      "source": [
        "import re\n",
        "corpus=[]\n",
        "length=len(df)"
      ]
    },
    {
      "cell_type": "code",
      "execution_count": 23,
      "metadata": {
        "id": "LdyhEWUccKmH"
      },
      "outputs": [],
      "source": [
        "for i in range(0,length):\n",
        "  SP_TEXT=re.sub(\"[^a_ZA_Z0-9]\",\" \",df[\"SP_TEXT\"][i])\n",
        "  SP_TEXT=SP_TEXT.lower()\n",
        "  SP_TEXT=SP_TEXT.split()\n",
        "  pe=PorterStemmer()\n",
        "  stopword=stopwords.words(\"english\")\n",
        "  SP_TEXT=[pe.stem(word)for word in SP_TEXT if not word in set (stopword)]\n",
        "  SP_TEXT=\" \".join(SP_TEXT)\n",
        "  corpus.append(SP_TEXT)"
      ]
    },
    {
      "cell_type": "markdown",
      "metadata": {
        "id": "BJJpTzauk_gl"
      },
      "source": [
        "TEXT PRE-PROCESSING"
      ]
    },
    {
      "cell_type": "code",
      "execution_count": 24,
      "metadata": {
        "colab": {
          "base_uri": "https://localhost:8080/"
        },
        "id": "qFnoVrsYk6Gl",
        "outputId": "a5fc6242-343c-441a-f2da-d51a41f259d2"
      },
      "outputs": [
        {
          "output_type": "execute_result",
          "data": {
            "text/plain": [
              "['988291 4 3 00',\n",
              " '9 2001 09 09',\n",
              " '25 1 5 6 12 13 13 5 15',\n",
              " '',\n",
              " '',\n",
              " '',\n",
              " '30 30 30 4 22 25 30 21 21 21 21 3 22 01 3 25 01',\n",
              " '3 100',\n",
              " '2 26 02 27 2001 10 33 02 27 2001 09 46 26 2 26 2 26 01 0 456 469 1 027',\n",
              " '21 23 2000 021 021',\n",
              " '12 5 0 025 5 0 12 15 0 15 2 2 21 0 025 5 0 12 15 0 15 8 27 1933 21 1934 17 49000 1995',\n",
              " '01405 1 4 45 60 2004',\n",
              " '28 2000 20 000 120 000 20 000',\n",
              " '',\n",
              " '384258 3 902 687 50',\n",
              " '30 0 45 1 80 1 8 20 8 1 80 2 14 5 2006 14 52 20 6 3 81 24 2 6 53 1 99 3 85 2 6 1 29 7 64 2 6 379 2 13 2 6 143 886 2 6 27 1933 21 1934 1934 042',\n",
              " '643714 02 23 2001 04 55 9879 800 85 2 17 2 28 3 6353 02 23 2001 04 21 02 22 2001 10 39',\n",
              " '2001 9643 04 26 2001 07 09 04 25 2001 06 13 2001 6 400',\n",
              " '4 09 19 2000 08 44 09 18 2000 04 53 4 4 9851 11 204 2000 9852 568 2000',\n",
              " '',\n",
              " '22 2001 8 38 05 22 2001 08 35 05 21 2001 03 26 2000 2001 16 18 2000 14 18 2001 17 2001 18 2000 18 2000 17 2001 5 17 2001 44 923 2 78 5 18 2000 43 709 5 17 2001 5 18 2000 3 3 5 4',\n",
              " '6461 35 300 300 45 350 6 33 300 42 300 1 2001 31 2001',\n",
              " '25 2001 26 26',\n",
              " '10 00 2000 0 04',\n",
              " '25 26 1 2 3 1 4 4 12 29 5 3 38 3 5 1950 40 50 3 38 3 5 7 3 38 3 5 1958 3 1960 2000 3 160 3 51 50 75 5 3 38 3 5 100 3 38 3 5 480 640 160 640 70 46 24 29 3000',\n",
              " '11 2000 11 2000 40 000 25 209 84 791 775 000 11 2000 3949 10 13 2000 03 04 12 2000 3949 40 000 110 000 10 13 2000 02 58 10 13 2000 10 04 12 2000 40 000 110 000',\n",
              " '150 20 25',\n",
              " '',\n",
              " '27 2001 16 07 26 0500 713 853 1411 0044 207 78 36777 888 853 9797 713 345 4745 402 398 7454',\n",
              " '8018 148376 26 03 13 2000 02 28 8018 148376 03 13 2000 02 25 03 13 2000 02 09 8018 148376 11 35 0 148381 2 11',\n",
              " '2000 07 27 2001 01 46 07 19 2001 10 27 2000 2000 138 98663 508426 0 14 115 986431 20 508426 115 0 14 20 222 2000 2001 547063 0 14 713 830 6960',\n",
              " '2 2000 60 000 40 000 15 000',\n",
              " '26 26 3 00 15 1 3 00 8 00 20 8 00 20 3 7979 6 8 00 29 5 00 19',\n",
              " '5 8 1300 2100 5 2 900 2100 06 23 2000 09 43 06 23 2000 09 30 06 23 2000 09 29 5 8 5 2 5 6',\n",
              " '1 5 0 7 0 10 0 1 1 2 1 2 215 2 7 0 10 0 215 3 0 215',\n",
              " '1 2 2 99 00 2 256 29 90 3 2 9 50 4 56 23 90 5 56 25 50 6 1100 158 00 7 1160 278 00 8 2 8 80 9 3 1 52 00 10 16 90 11 107 50 12 15 90 13 2 1 49 00 14 4 2 0 5 50 15 8 49 00 16 3 19 50 17 5 1 36 00 18 2 1 58 00 19 9 50 20 168 16 36 00 21 17 50 22 52 24 52 6 34 90 23 99 00 24 12 90 25 1 5 2 0 127 00 256 56 3 971 4 8834464 971 4 8834454 4176 101 1 1618 105 4 48',\n",
              " '02 04 2000 2 56 250 20 000 40 000 3 30 000 60 000 4 75 000',\n",
              " '',\n",
              " '19 01 18 2000 11 11 _ _ 01 18 2000 10 48 53 19',\n",
              " '2000 02 16 2000 09 43 02 16 2000 09 37 09 2000 2000 2 17 00 1 075 12 400 12 400 5555 1200 77056 713 964 9434',\n",
              " '0 80 0 100',\n",
              " '4',\n",
              " '700 2700 77002 713 830 8659 713 830 8722 1 1',\n",
              " '5 2000 60 000 65 000 15 000',\n",
              " '2000 02 22 2000 01 44 2000 2000 2117 33321',\n",
              " '348725 6 10 6 30 348729 7 1 7 31 07 28 2000 01 24 9835 600 96 0 14 6 10 7 31 9845 3000 100 0 10 7 21 7 31 9847 800 100 0 13 7 25 7 31 3 35 3 6353',\n",
              " '2002 270 99 50 00 220 00 7 0 609 99 60 00 550 00 2002 579 99 60 00 510 00 10 270 99 60 00 210 00 11 270 99 60 00 210 00 7 404 99 60 00 335 00 7 _ 233763 _ 601 aa',\n",
              " '2004',\n",
              " '1300 1472 aa 100',\n",
              " '31 2000 8 27 aa 07 2000 5 56 55 2201 000 26 2000 6 00 23 2000 11 13 _ 23 2000 1 37 0 3 30 _ 73 2 _ _ 527 246 _ 44 423 07 999 26 74 991107 327 75 51 _ 22 2000 23 16 25 _ _ _ _ _ 991107 23 31 _ 9538 312 0 714 2 8 732412 22 2000 13 44 16 0500 1 0 5 5 2448 0 822 _ _ _ _ _ 22 2000 10 22 15 0500 1 0 5 5 2448 0 18 2000 5 20 94 17 2000 1 27 57 3093 3 7 200 5 aa 8297 aa 906 _ 8 32 100',\n",
              " '34 234 80 33792343 _ 3 100 000 9 2002 68 23 _',\n",
              " '2001',\n",
              " '9 7 01 82 5 aa 37 1 5 43 9 7 01',\n",
              " '20 2001 30 12 01 3 36 1 3 36 0 01 01 3 35 3 36 0 01 90 20 2001 713 853 1787',\n",
              " '4 12 00 2 00 1999',\n",
              " '1 18 01 137205 2 773 25 9748 10',\n",
              " '06 2001 3 57 2000 2001 540 000 57 000 2000 06 2001 8 12 6 4 1 040 000 31 2003',\n",
              " '22 24 2000 22 2000 45 000 105 000 15 000 23 2000 45 000 105 000 15 000 24 2000 57 500 1 875 2 500',\n",
              " '4 04 05 2001 11 00 46 4 20 000 19 909 20 447 1 027',\n",
              " '1553 4 40',\n",
              " '23 10 200 24 5 0 1 1 2 0 2 5 52 0 0 3 2 27 1933 21 1934 2005',\n",
              " '3 9686 28 2001 9 58 1 31 1 31 4300101 1 357 3 94 4 30 4 30 4300101 8 726 3 94 5 31 5 31 4300101 9 912 3 94 713 571 3189',\n",
              " '34 70 1 34 26 1 30',\n",
              " '',\n",
              " '04 01 21 2001 2 36 04 01 04 01 01 04 30 01 413462 04 01 10 000 _ 1 05 08 01 08 2001 11 01 04 01 05 08 2001 10 57 05 07 2001 04 54 04 01 413462 10 000 413462 _ 1 10 000 _ 2 0 05 07 2001 04 43 04 01 05 07 2001 04 39 05 07 2001 02 58 04 01 04 01 413462 04 01 03 01 05 01 04 01 413462 10 000 _ 1 11 000 _ 2 1201 1524 77002 713 571 3274 713 646 8875',\n",
              " '17 2001 17 17',\n",
              " '8 8 00 0 8 8 00 0 3',\n",
              " '20 _',\n",
              " '4 2',\n",
              " '502952 2000',\n",
              " '',\n",
              " '',\n",
              " '12 00 12 01 11 27 2000 10 38 11 27 2000 11 35 12 00 12 00 200',\n",
              " '281 370 7838',\n",
              " '8006',\n",
              " '359 716 9493 608 244 1895',\n",
              " '30 9 000 10',\n",
              " '12 04 2000 03 55 12 01 2000 02 45 2 803 586 41 0 04 1 551 050 76',\n",
              " '',\n",
              " '_ 7',\n",
              " '2 12 2001 11 59',\n",
              " '21 01 20 2000 10 39 _ _ 01 20 2000 10 36 49 21',\n",
              " '22 04 23 2001 10 57 34 22 4 20 25 000 24 402 25 061 13 00 9 00 20 4 21 15 625 15 829 16 256 9 00 24 00 15 4 22 25 500 25 148 25 827 16 00 9 00 17 1 027',\n",
              " '14 2000 114 114',\n",
              " '713 708 0117',\n",
              " '108 4 59 00 108 4 59 00 624 108 10 802 11 511 108 108 3 3 971 4 8834464 971 4 8834454 4176 101 1 1618 105 4 48',\n",
              " '2 1500',\n",
              " '7 2001 307 307',\n",
              " '1591 1591',\n",
              " '',\n",
              " '2004 8006',\n",
              " '0 3 5 11 3 04 10 994 910 8 19 04 54 9 11 1 2 50 3 4 3 5 7 2 5 2004 12 100 175 1933 3 6 1934 1933 7',\n",
              " '2 0 2 2 187 00 2 2 5 2 25 2 5 2 2 2 0 187 00 2 0 2 2 2 2 2 0 6 5 2 0 2 2 6 5 3 971 4 8834464 971 4 8834454 4176 101 1 1618 105 3 48',\n",
              " '',\n",
              " '',\n",
              " '30 30 25 27 21 2 23 22 20 1 25 01 1 27 01 1',\n",
              " '',\n",
              " '27 2001 327 327',\n",
              " '_ 1835 1910 1935',\n",
              " '30 000 10 000 5',\n",
              " '3 5953',\n",
              " '30 2001 6 16 54667',\n",
              " '713 345 4727 0507544 14031399',\n",
              " '19 720 100 19 20 35 300 76 9 40 70 720 33',\n",
              " '80',\n",
              " '6 29 93199 18 500 18 000',\n",
              " '4 5 3 2799 2 2 3 5 9 53 7 4 2 2 3 8 933285 410 5 6 2 8 8 5 5 8 6 01 4 2 3 2',\n",
              " '2 16 00 2 16 34 400 27 400 7 000 500',\n",
              " '7 01 06 2000 10 49 _ _ 01 06 2000 10 26 49 7',\n",
              " '579 879 6567 171 128 1758',\n",
              " '2 188',\n",
              " '125836 11 30 99 15',\n",
              " '2000 5688 3 9497 04 13 2000 01 31 04 11 2000 10 29 2000 5688 5688 012 41970 02 002 2000 02 16 2000 04 35 1 2000 5688 5801 3 2000 5688 5801 012 41970 02 002',\n",
              " '2 00 03 20 2000 02 26 03 20 2000 02 08 2 00 2 00 156658 0 05 0 04',\n",
              " '1 125822 9658 7 129 5 500',\n",
              " '',\n",
              " '343421 07 25 2000 10 47 07 25 2000 10 47 07 25 2000 10 46 07 25 2000 10 29 981373 981384 2000 2000 07 25 2000 10 23 07 14 2000 10 27 07 14 2000 10 24 07 14 2000 09 29 2000',\n",
              " '168509',\n",
              " '14 15 14 02 16 2001 10 37 02 16 2001 10 20 39 14 15 2 14 25 000 25 959 2 15 60 000 64 837',\n",
              " '2 17 2 17 37 625 35 000 30 625 7 000 500',\n",
              " '3 14 01 314 314',\n",
              " '10 14 16 00 14 16 2000 014 014',\n",
              " '28 2001 10 28 28 2001 10 18 3 9686 28 2001 9 58 1 31 1 31 4300101 1 357 3 94 4 30 4 30 4300101 8 726 3 94 5 31 5 31 4300101 9 912 3 94 713 571 3189',\n",
              " '980417 11 30 99 26 1999 1999',\n",
              " '',\n",
              " '25 10 17 2000 08 17',\n",
              " '3 971 4 8834464 971 4 8834454 4176 101 1 1618 105 4 48',\n",
              " '96035668 212225 16 2001 10 35656',\n",
              " '8859 7 5 3 5 _ _ 4 _ _ _ 3 100 3 20 100 100 50 50',\n",
              " '',\n",
              " '08 23 2000 04 51 08 23 2000 04 46 3 6353',\n",
              " '4 2000 14 32 52 0600',\n",
              " '',\n",
              " '3 29 01 03 30 2001 10 05 40 3 29 01 24 583 24 999 25 674 1 027',\n",
              " '80 80 80 15 36 80',\n",
              " '25 5 _ 70 30',\n",
              " '26 12 20 2000 09 04 26 12 20 2000 08 34 26 27 22',\n",
              " '2 400 000 4 0 aa aa aa aa',\n",
              " '',\n",
              " '',\n",
              " '1373 26 2001 8 34 1373 04 25 2001 10 22 1373 0 25 2001 10 18 1373 165373 10 000 3 4 5 310 000 157572 5 000 3 155 000',\n",
              " '1 43 500 3 4 5 2005 7 0 50 0 70 5 7 10 1 50 3 00 2005 78 56 _ 2 553 6 25369 2 19 95 11 300',\n",
              " '12 20 2000 06 55 12 19 2000 06 17 12 19 2000 10 57 12 19 2000 09 37 12 05 2000 04 12 12 05 2000 04 11 12 05 2000 02 53 012 88494 202 28 000',\n",
              " '9 00 02 15 2001 01 40 9 00 02 15 2001 01 09 9 00 2000 157288 8 745 69',\n",
              " '3',\n",
              " '25 26 26 0 7 800 713 627 6467 0 0 0 7 800 26 713 627 6202',\n",
              " '98 3405 98 9643 0 113858 93779 138094 120866 138544 139661 98 3405 98 9643 3 9497',\n",
              " '270 000 1700 29 1 2 3 100 16 58 2003 129 15 2004 8 25 2002 1987 2003 270000 1700 29 1 2 3 100 16 58 2003 129 15 2004 8 25 365 2002 1987 2003 72 72 78 17 6 1 78 2003 69 69270 411 309 198',\n",
              " '3212 3212 3213 3210 3210 3212 3213 3213 3214 3211 3211 3213 3211 3209 3206 3211 3211 3213 3209',\n",
              " '01 28 2000 10 58 _ _ 01 28 2000 10 53 30',\n",
              " '2 22 01 02 23 2001 10 15 02 23 2001 10 14 42 2 22 01 60 000 58 094 56 567 1 027',\n",
              " '1266 2000 08 21 2000 01 36 1266 2000 2000 82 8 16 85 8 17 65 8 18 57 8 19 60 8 20 363514 08 21 2000 01 27 08 11 2000 03 17 1266 2000 08 11 2000 03 16 08 11 2000 03 16 1266 2000 414 31 12 426 363514 08 11 2000 02 02 1266 2000 0 03 1 31 1266 2000 14 981266 2 08 09 2000 03 33 1266 2000 08 09 2000 12 50 1266 2000 08 09 2000 12 47 08 09 2000 11 27 1266 2000 1266 7 1 00 7 31 00 7 1 00 9 00 7 1 00 7 31 00 9 00 8 1 00 36449 08 09 2000 11 18 08 09 2000 11 17 1266 2000 1266 31 2000',\n",
              " '986899 118 31 418382 9',\n",
              " '201 7 580 202 1 176 201 22 526 202 730',\n",
              " '',\n",
              " '213 9696 8000 100 0 16 2 1 2 28 3 6353 02 09 2001 02 46 01 26 2001 08 47 213 586954 2 1 01 2 28 01 9696 5 000 100 0 16 01 26 2001 08 25 213 01 26 2001 08 24 01 25 2001 01 58 213 10 000 15 000 100 0 16 01 25 2001 01 47 213 01 25 2001 11 53 213 3 6353 01 25 2001 11 55 01 25 2001 10 56 213 213 20 400 6 45',\n",
              " '2000',\n",
              " '657549 9124 874 1 3646 1 3643 2171 27',\n",
              " '',\n",
              " '2 2 00 66277',\n",
              " '04 17 2000 04 33 04 17 2000 03 12 aa aa',\n",
              " '16 2001 216 216',\n",
              " '',\n",
              " '1 1',\n",
              " '2002 50 7 0 60 2002 60 11 60',\n",
              " '713 446 8025 713 942 8326 713 942 1707 281 550 8304',\n",
              " '0 106736 1373',\n",
              " '985579 1 1 99 6 99 1 1 99 016 44386 102 341832 12 31 99 99 6 510 99 6 395 99 14 789 99 16 866 99 8 415 99 13 858 66 833 1 2',\n",
              " '06 13 2000 01 19 06 13 2000 11 07 59',\n",
              " '09 28 2000 07 41 138553 2 418429 139 394798 500 418431 322 418432 700 403367 300 418434 96 418436 100 9858 3000 6879 544 133010 5228 3000',\n",
              " '1 2 2 736 1136 3 37339',\n",
              " '30 2001 8 31 1450 100 77380 281 367 8658 281 364 9628',\n",
              " '2000 12 400 13 000',\n",
              " '9830 10 535 750 500 21',\n",
              " '10 1 00 30 000 7600 22400',\n",
              " '0 2 2 2 2 5 9 60 5570 803 5100 46 267 3 8 8 12 12 14 01778 941 151 7741 416 171 7172 89 20 2004 11 03 07 0200',\n",
              " '2 45 202 40 06 36 2 6 256 40 15 10 100 90 875 00 65 26 60 02 5 2 8 256 60 15 10 100 90 895 00 45 51 40 0 4 2 8 512 60 15 10 100 90 1080 00 75 206 70 003002 4 2 8 512 60 15 4 10 100 90 1105 00 65 065 4 2 8 512 60 15 10 100 90 1145 00 55 306 50 03 2 5 256 40 15 10 100 802 11 90 1160 00 65 762 60 019017 4 3 2 512 60 15 10 100 802 11 90 1210 00 55 326 50 03 21 6 512 60 15 1 10 100 802 11 90 1260 00 75 226 4 3 06 512 60 15 4 10 100 90 1275 00 5 420 0 3 97 4 3 0 512 80 15 4 10 100 90 1290 00 35 320 30 7100 5 512 60 15 4 10 100 90 1295 00 25 520 20 3 68 4 3 0 512 80 17 10 100 90 1360 00 5 470 0 0 4 3 0 512 60 15 4 10 100 90 1460 00 35 456 33 001001 7 512 80 15 4 10 100 802 11 90 1560 00 66 00 56 30 3 971 4 8834464 971 4 8834454 4176 101 1 1618 105 7',\n",
              " '3 2000 60 000 68 333 15 000',\n",
              " '028 27099 201 028 27099 202 028 27099 203 028 27099 204 5095 037 5098 695 9121 5203 010 0004 0004',\n",
              " '7 78 16 40 2 8 7 aa 1 5 6 12',\n",
              " '',\n",
              " '2000 1528 2000 92887',\n",
              " '',\n",
              " '08 01 2000 02 48 07 31 2000 09 50 07 31 2000 09 40 07 31 2000 09 29 07 31 2000 09 02 02 25 2000 04 52 2000',\n",
              " '33',\n",
              " '10 24 2000 08 52 10 23 2000 04 42 3 6353',\n",
              " '2',\n",
              " '338634 985077 03 20 2001 10 53 338634 985077 03 20 2001 10 48 338634 985077 7 1 00 12 31 00 1 4 01 1 8 01 1 29 01 2 7 01 2 28 01 2804',\n",
              " '1 3 2000 1 2000 35 000 105 625 2 2000 30 000 120 000 3 2000 30 000 120 000',\n",
              " '28 2001 6 00',\n",
              " '04 17 2001 10 16 04 16 2001 10 07 640685 01 547201 679847 679848 36574 04 16 2001 09 52 03 19 2001 05 33 547201 591307 679847 679848 679859 03 06 2001 03 36 01 03 06 2001 03 24 03 05 2001 06 33 547201 591307 4 974 144 1 01 766 304 2 01 2 1 01 886 638 60 12 00 2 01 839 008 29 1 01 2 3 4',\n",
              " '1 95 3 1 95',\n",
              " '9 00 2000 157288 8 745 69',\n",
              " '',\n",
              " '00 231758 271 231758 5 8643 07 28 2000 12 57 07 21 2000 09 37 00 4 00 07 20 2000 03 50 00 231758 271 231758 5 8643 07 20 2000 03 43 07 20 2000 03 38 00 231758 93472 271 07 20 2000 03 34 05 11 2000 04 18 00 1 05 11 2000 08 34 00 4 00 3 6673 05 10 2000 09 31 00 271 04 01 00 93472 3 7159',\n",
              " '_ _',\n",
              " '15 3',\n",
              " '10 00 1 9673 300 100 0 12 3 6353',\n",
              " '06 05 2000 08 00 06 02 2000 04 30 44 5 8 8 9 0600',\n",
              " '6490 2000 3804 100 213 83088',\n",
              " '0067 10 10 01',\n",
              " '4 0 800',\n",
              " '13 2000 120 000 30 000',\n",
              " '2 23 2000 60 000 53 000 24 02 23 2000 11 34 02 23 2000 11 20 21 2 23 2000 60 000 2 24 02 23 2000 09 11 07 2 23 2000 2 24 2000 02 23 2000 09 09 02 23 2000 08 55 2 23 2000 65 000 2 23 2000 7 000 500 58 000 60 000 65 000',\n",
              " '98 0432 156657 3 1 00 215 2 00 1 423 3 9497',\n",
              " '3 3 12 3 10 21 00 10 19 2000 02 47 10 19 2000 02 01 10 19 2000 02 02 10 19 2000 01 54 49 2 3 2 53',\n",
              " '700 2700 77002 713 830 8659 713 830 8722 1',\n",
              " '3 12 01 11 30 13 2001 12 07 3 13 2001 10 45 3 30569',\n",
              " '9990835 0 7 9 8',\n",
              " '09 15 2000 11 44',\n",
              " '02 03 2000 09 19 _ _ 02 03 2000 07 53 41',\n",
              " '8 01 00 8 1 07 28 2000 07 59 07 27 2000 05 20 8 01 00 800',\n",
              " '02 14 2000 11 09 _ _ 02 14 2000 09 51 52 _',\n",
              " '19 19 600 000 25 5',\n",
              " '02 2000 29 2001 4 47 2000 25 2001 5 16 871172 22 2001 4 50 2000 854688 11 129 2000 871184 3 600 11 500 2000 871172 105124 8 275 624 10 362 3 7118',\n",
              " '11',\n",
              " '10 00',\n",
              " '25 2000 07 24 00 11 27 07 24 00 10 39 25 2000 713 627 6467 60 25 2000 12200 7800 25000 15000',\n",
              " '30 100 179 00 10',\n",
              " 'aa 0 12 45 5 343 263 1940 3 7 100 000 24 2004 250 000 12 12 1 000 000 50 73 1970 2 5 20 30 12 12 300 000 32 500 00 2 450 000 00 115 000 00 600 000 00 30 2004 82 500 100 3 780 000 127 993 2003 1 000 000 82 500 50',\n",
              " '3 2000 803 803',\n",
              " '5 12 5 14 1465 87 000 713 571 3258',\n",
              " '12 99 4 2256 9 7214 11 2527 12 3537 15 7058 16 4776 17 4465 28 264 01 12 2000 01 07 01 12 2000 10 46 12 99 4 9 11 12 15 16 17 28 1554 3',\n",
              " '1 3 2525 1103 98201',\n",
              " '',\n",
              " '02 10 2000 01 45 02 10 2000 01 23 02 10 2000 01 22 02 10 2000 11 09 2000 2',\n",
              " '2 11 29 2000 09 57 11 29 2000 10 54 2 2 200',\n",
              " '8022',\n",
              " '1 5 2000 10 000 85 000',\n",
              " '24',\n",
              " '2 2000 03 20 2000 02 42 03 20 2000 02 23 2 2000 03 20 2000 02 22 03 20 2000 02 09 02 2 2000 2000 3 21 00 9 00 1 075 11 000 2 000 2 000 13 000 512 576 1005 713 964 9441 5555 1200 77056 713 964 9434',\n",
              " '70',\n",
              " '3 25 2004 4 00 50 1 25 26 24 2004 7 2 00 30 3 50 2004 2 900 3 2 5 000 10 15 50 140 200 300 2004 1 3 4 100 550 520 50 000 10 15 30 2004 1 26 2003 1992 15 4 100 550 520 1933 17',\n",
              " '100 7 7 1 80 25 98 2 1 2 3 7 7 37 97 9 2004 08 30 7 40 42 2004 08 30 1 25 52',\n",
              " '2001 2000 10 2001',\n",
              " '24 5 05 23 2000 09 52 05 23 2000 05 11 24 5 3 5824 05 23 2000 02 05 05 23 2000 10 26 24 5 24 5 24 0 3 9746',\n",
              " '5 5 850 000 3 100 30 20',\n",
              " '981511 5 1 2000 9 222051 2000 4 30 2000 1 222051 2 3',\n",
              " '508 786 7201 2 977 5 000 36 3 29 00',\n",
              " '615 13',\n",
              " '1 25 2000 725 725',\n",
              " '55486 300 000 700',\n",
              " '2 98 1488 98 1601',\n",
              " '9280',\n",
              " '20 3',\n",
              " '04 01 08 2001 11 35 04 01 04 01 413462 10 000 _ 1 11 000 _ 2 04 01 08 2001 11 01 04 01 05 08 2001 10 57 05 07 2001 04 54 04 01 413462 10 000 413462 _ 1 10 000 _ 2 0 05 07 2001 04 43 04 01 05 07 2001 04 39 05 07 2001 02 58 04 01 04 01 413462 04 01 03 01 05 01 04 01 413462 10 000 _ 1 11 000 _ 2 1201 1524 77002 713 571 3274 713 646 8875',\n",
              " '',\n",
              " '07 11 2000 09 18 327963 9842 2 800 96 7 6 7 31 327964 9844 150 100 0 14 7 8 7 31 3 6353',\n",
              " '300 000 600',\n",
              " '108058 4 30 2001 108058 20 000 0',\n",
              " '',\n",
              " '2000 09 26 2000 08 28 09 21 2000 05 19 2000 2000 000',\n",
              " '3002 3003 99 02 16 2000 02 54 02 13 2000 02 28 3003 01 02 99 3002 01 02 99 0598 08 01 99 5360 0 01 00 15',\n",
              " '7 2 02 4 5',\n",
              " '8 1 2 1997 2000 2001 1997 1999 2000 96 1997 113 1998 250 1999 132 2000 17 2001 5 2001 17 2001 711 1997 561 1998 685 1999 628 2000 2001 8',\n",
              " '500 100',\n",
              " '9',\n",
              " '8 78 16 40 2 8 7 aa 1 5 6 12',\n",
              " '80 1831',\n",
              " '98 6719 98 9676 98 6719 166989 10 11 96026573 98 9676 151669 1 1 00 1 31 00 2000 215 1 2000 3 9497',\n",
              " '',\n",
              " '80 3 000 000 29 3 2',\n",
              " '06 21 2000 03 11 06 21 2000 11 03 286824 6 17',\n",
              " '335 305 23 6 10 00 06 08 2000 06 27 06 08 2000 05 25 40 335 305 23 6 10 00 6 10 00 335 61000 305 61000 23 61000',\n",
              " '',\n",
              " '21 2000 60 000 71 250',\n",
              " '14 2000 8 320 000 00 30 70',\n",
              " '916 916',\n",
              " '4179 592122 02 01 2001 08 21 4179 9 1 9 13 9 13 3 6353 02 01 2001 08 24 01 31 2001 05 08 4179 4179 4 500 85 9 1 00 9 8 00 3 6353',\n",
              " '06 16 2000 12 24 06 16 2000 10 34 43',\n",
              " '24 24',\n",
              " '2000 02 24 00 24 50 000 24 53 000',\n",
              " '1890 1970 1871 1922',\n",
              " '3 8 01',\n",
              " '_ 0',\n",
              " '9 00 9 00 157278 1 175 51',\n",
              " '_ _ _ 0 _ _ 0 _ 20 60 180 3',\n",
              " '1 2000 2001 4 13 713 461 6626 113 713 461 4475',\n",
              " '31',\n",
              " '26 12 20 2000 08 34 26 27 22',\n",
              " '2 3 2000 33 500 2 3 2000 30 700 8 500 25 000',\n",
              " '1 20 98 0 1 1 2 10 82 00 25 3 62 1 37210 818 711 4417 719 417 8214 4 84 09 2004 02 41 38 0200',\n",
              " '15 17 2000 715 715',\n",
              " '03 00 2000 2 32 000 3 12 0 13 31 32 000 2000 10 000',\n",
              " '8 188',\n",
              " '27 28 2000 7 7 22 850 3 16 22 850 15 233 27 2000 227 228 227 228',\n",
              " '',\n",
              " '0980438 10 23 2000 01 31 10 23 2000 01 21 0980438 10 23 2000 01 05 0980438 10 23 2000 08 15 10 12 2000 07 57 0980438 55 000 36454',\n",
              " '5 2000 005 005',\n",
              " '12 00 11 27 2000 11 01 11 27 2000 11 27 12 00 12 00 1200',\n",
              " '3 24 3 26 01 03 26 2001 11 50 15 3 24 3 26 01 3 23 0 0 0 3 24 0 0 0 3 25 5000 4094 4205',\n",
              " '0 18 100 200 0 1 1 27 1933 21 1934 42',\n",
              " '11 21 2000 98 439 465322 140 11 21 2000 3 9497 12 21 2000 09 06 12 19 2000 09 30 11 21 2000 98 439 462490 12 19 2000 09 24 11 21 2000 98 439 465490 5 12 19 2000 09 02 11 21 2000 98 439 465490 141 11 21 2000 465322 140 11 21 2000 3 9497',\n",
              " '2000 11 15 2000 03 26 11 15 2000 03 26 11 15 2000 03 16',\n",
              " '11 00 2000 38 000 2000 10 000',\n",
              " '',\n",
              " '',\n",
              " '9 00 10 00 11 21 2000 09 15 11 20 2000 06 00 1089 26 275 5 20 136 630 18 538 5 06 93 802 28 20 000 5 045 100 900 25 000 5 09 127 250 89 813 458 582 28 1 124 275 5 148 787 47 427 851 1 245 046 41 5 607 369 75 1 722 293 49 354 175 00 2 076 468 49 1 348 500 00 111 980 31',\n",
              " '',\n",
              " '03 21 2000 11 18 _ _ 03 21 2000 11 12 40 _',\n",
              " '24 2000 30 000 92 500 20 000',\n",
              " '18 2207 19803 2908',\n",
              " '000000000002858 9 14 00 8 57 26',\n",
              " '3 26 01 26 2001 20 000 0900 1400 5 40 000 1400 0100 11 22 500 214 812 4404 03 27 2001 09 39 00 3 26 01 24 167 21 820 22 409 1 027 3 23 3 25',\n",
              " '56 2001 2',\n",
              " '4',\n",
              " '15 2000 9 56 3 1 15 2000 9 28 9 2000 5 60 75 1960 202 456 4114 202 456 2461 202 274 5000 202 456 2883 202 224 2424 202 224 2321 202 224 5556 202 225 2671 202 225 0100 202 224 3121 312 744 3300 312 744 2324 617 929 2000 617 929 3049 617 619 6400 312 321 3000 800 874 2863 213 237 7935 213 237 4511 213 237 7679 202 293 4650 212 930 8000 212 556 1234 212 556 3622 215 854 4500 703 276 3400 202 334 6000 404 827 1500 212 975 4321 1001 650 77027 713 688 8811 713 968 8025 _ _ _ _ _ _ _ _ _ _ _ _ _ _ _ _ _ _ _ _ _ _ _ _ _ _ _ _ _ _ _ _ _ _ _ _ _ _ _ _ _ _ _ _ _ _ _ _ _ _ _ _ _ _ _ _ 1',\n",
              " '19 2000 20 000 100 000 30 000',\n",
              " '01 138095 6331 6884 04 04 2001 09 57 01 235670 12 00 02 01 5 8643',\n",
              " '2000 2000 2000',\n",
              " '7470',\n",
              " '11 15 00 0 11 15 00 0 0 11 15 00 11 30 00 5 60',\n",
              " '587 2395 12 21 99 09 32 12 21 99 09 18 12',\n",
              " '9794 4 8 6 22',\n",
              " '300 000 700 4 34 7 1 33 6 aa',\n",
              " '4 01 685 4 1 4 30 5 24 01 5 8773 713 345 8773 05 22 2001 02 49 4 01',\n",
              " '3 1 8793 3 2 9643 12 3 3 3 3 9643',\n",
              " '87 847 6 3 100 100',\n",
              " '',\n",
              " '11 16 2000 11 51 11 16 2000 09 16 9860 1 000 100 0 16 10 4 10 31 96052055 100 0 16 11 1 11 30 96052055 3 6353 11 08 2000 03 15 11 08 2000 02 20',\n",
              " '9826 2 000 1 200 900',\n",
              " '9 23 00 9 23 00 30000 7400 22600 09 22 2000 03 10 09 22 2000 02 44 9 23 00 0 09 22 2000 02 40 09 22 2000 09 00 9 23 00 30 000 9 23 00 7400 22600',\n",
              " '10 2000 6 19 98 0439 216 3 9497',\n",
              " '2001 12 28 2000 10 27 12 28 2000 11 24 2001 2001 01',\n",
              " '75 2003',\n",
              " '12 17 99 04 03 12 14 99 10 56 01',\n",
              " '27 2000 27 2000 30 000 120 000 30 000',\n",
              " '199 95 189 95 199 95 259 95 189 95 233 95 1',\n",
              " '_ _ 84078 84079 84079 3 9890 _ 08 30 2000 08 27 33548',\n",
              " '',\n",
              " '25 2001 525 525',\n",
              " '80 3 3',\n",
              " '11 2001 511 511',\n",
              " '',\n",
              " 'aa',\n",
              " '4 186 4 1150 9 5 6 4',\n",
              " '12 13 12 01 01',\n",
              " '20 2000 220 220',\n",
              " '6 8 05 08 2000 11 46 05 08 2000 10 22 6 8 5095 037 5 6 9 3 16 495 9 6 2 759 19 061 5 7 9 3 15 689 9 6 2 243 17 753 5 8 9 3 13 752 9 6 2 799 16 385',\n",
              " '7000 5031 2100 2100 7000 16231 04 19 2000 04 47 04 19 2000 03 54 5031 02 2100 2100 5031 9231 04 19 2000 03 55 04 19 2000 01 58 2100 83 2100 5000',\n",
              " '30 80',\n",
              " '77',\n",
              " '03 12 2001 01 55 03 12 2001 12 47 1 31 01',\n",
              " '2 000 2 000 4 000',\n",
              " '',\n",
              " '4551 414822 22 2004 09 35 06 0100 3 8',\n",
              " '12 24 1 4 877 497 3757 713 417 2995 970 920 2293 970 920 2294',\n",
              " '16 2000 116 116',\n",
              " '15 2001 315 315',\n",
              " '1999 1999',\n",
              " '1831 4',\n",
              " '3 2000 20 000 91 667 20 000',\n",
              " '1 6 200 02 02 409 000 2 1 500 000 15 000 37 500',\n",
              " '',\n",
              " '4 95',\n",
              " '23 9 45 9 96 9 5 16495 16488 9 96 45000 38092 10 00 988056 981550 10 20 980584 21964 16884 50156 45076 3 30 980584 16884 16275 50765 34 38092 37412 4575 24 9 30 34 16495 16358 9 96 45000 41298 980584 21964 8000 59040 986040 13964 12930 38061 10 00 3 30 9 10000 6988 9 96 45000 41298 25 9 30 9 5 16495 16259 9 96 45000 43127 980584 21964 11864 55176 10 00 1 00 10000 5000 020 10000 5000 5896 202 1 4 5000 49765 4 00 96 5 16259 16100 9 96 45000 36215 8740',\n",
              " '24 26 2001 2 2 23 01 224 223 224 223',\n",
              " '399791 399791 2000 3 56 3 58 10 05 2000 08 03 09 15 2000 09 37 09 13 2000 04 01 7 31 8 7 8 31 399763 399773 399791 399797 399814',\n",
              " '19 21 2001 519 519',\n",
              " '22',\n",
              " '13 2001 13 13',\n",
              " '',\n",
              " '5 2001 05 05',\n",
              " '',\n",
              " '2 03 03 2000 12 32 03 03 2000 11 28 2 03 03 2000 11 23 03 03 2000 08 05 2 03 03 2000 08 08 3 2000 15 46 45 0000 165 97 10 16 2 5 5 1774 114 11 3 2000 09 39 23 0600 165 97 9 8 165 97 10 16 1 0 03 2000 15 55 32 0000 _ _ 03 2000 09 41 20 0600 5 5 2 1 03 2000 09 40 31 0600 2 1 0 _ 025 8830 1 7 420 1722030',\n",
              " '9 1 00 30 000 8500 21500',\n",
              " 'aaaa aaa aaa aaaaaa',\n",
              " '_ _',\n",
              " '10 2002 2 06 09 2002 6 11 09 2002 3 03 1 10 000 7 27 2',\n",
              " '27 2001 8 17 1 012 15600 02 069 2 3',\n",
              " '10 18 99 2 99 322 897 1 2 80 3 4 5 36 6 1 322 897 322 897',\n",
              " '5 00 06 29 2000 01 10 5 00 2000 06 29 2000 12 23 5 00 06 28 2000 04 17 5 00 143559 2000 143558 316727 06 28 2000 10 45 5 00 06 28 2000 10 42 06 28 2000 10 28 5 00 2000',\n",
              " '10 36381',\n",
              " '89 00 17 74 17 8715 89 00 74 17 7 43 1280 1024 2 01 3 971 4 8834464 971 4 8834454 4176 101 1 1618 105 3 48',\n",
              " '01 28 2000 04 57 01 19 2000 05 30',\n",
              " '1 15 1 14 1 13 01 06 2000 08 24 01 05 2000 12 00 2000 1 15 2000 15 12 01 99 04 58 12 01 99 03 48 12 01 99 01 25 37 713 693 2845 713 693 2597 12 01 99 01 04 210 1 12 01 99 12 58 11 30 99 01 27 11 30 99 01 26 11 30 99 10 36 11 _',\n",
              " '10 92 2 27167564 30 92 7 2 92',\n",
              " '6886 153 1 6501 46 1 6501 5 10',\n",
              " '11 2000 811 811',\n",
              " 'aaa 10 16 2000 05 57 10 16 2000 12 14 10 16 2000 11 39 04 45 000 10 10 2000 03 41 4',\n",
              " '5 6 7 2000 8 00',\n",
              " '9750 800',\n",
              " '23 12 23 99 10 30 _ _ 12 22 99 11 32 52 23 999 999',\n",
              " '3 00 26 8 00 20 3 00 26',\n",
              " '01 1856 15 000 15 000 30 31 03 2001 12 48 01 01 1856 17054701 19087 175054701',\n",
              " '10 19 00 7500 10 19 00 7500',\n",
              " '1994 2000 1 119 70 1 2000 2001 2005 29 2000 25 5 5 29 2000 29 2000 29 2000',\n",
              " '2',\n",
              " '3 3 3 0 3 3 3 3 3',\n",
              " '03 01 2001 2001 2001 2 15 01 22',\n",
              " '199 5 1 30 199 15 10 13 199 40 14 05 14 25 12 13',\n",
              " '03 01 690249 15 000 03 25 3 26 05 3 27 01 5 235 05 5 235 05 5 285 5 8643',\n",
              " '18 3',\n",
              " '22 2000 722 722',\n",
              " '03 13 2001 04 41 03 13 2001 03 38 03 13 2001 02 24 318052 03 13 2001 02 21 03 13 2001 02 22 984486 292249 2 2001',\n",
              " '248 442 4823 248 477 5729 248 345 4002 07 17 2000 10 03 1 2 3 4 5 6 7 8 9 10 11 12 13 14',\n",
              " '126358 0 6067 2000 126281 6296 126358 6296 132832 0 2000 139397 6396 138658 0 2000 138658 9766 154608 138546 125827 125828 125899 125783 125900 3 9686',\n",
              " '7 15 6 31',\n",
              " '3 5 2000 3 2000 30 000 114 583 4 200 139 167 30 000 5 2000 85 000 30 000',\n",
              " '',\n",
              " '2 10 2001 210 213 210 213',\n",
              " '2000 2 2000 2 31 2001 20 1528 1188 77002 713 646 3755 2 713 345 5555 1',\n",
              " '13 65 000 11 2001 9 22 700 2700 77002 713 830 8659 713 830 8722 1',\n",
              " '2 60 80 80 80',\n",
              " '1 95',\n",
              " '1',\n",
              " '1 80 2 7 7 10 120 3 2004 2004 100 20 8',\n",
              " '80 3',\n",
              " '6722 1 6 3 007 1 1 00',\n",
              " '8 2000 40 000 53 125',\n",
              " '30 30',\n",
              " '27 2000 227 227',\n",
              " '',\n",
              " '6 6',\n",
              " '9 6 00 9 7 00 9 6 00 8500 10955 10545 10545 9 6 00 04 09 06 2000 01 07 09 06 2000 09 58 9 6 00 9 7 00 30 000 8500 10955 10545 9 7 00 30 000 8500 21500',\n",
              " '3 29 01 0 3 29 01 9 00 7300 03 28 01 03 10 03 28 01 08 07 3 29 01 0 3 29 01 0 0 3',\n",
              " '4 28 01 30 000 4 28 01 4 28 4 29 4 30 0 5 1 01 30 000',\n",
              " '218 45 31 164 2004',\n",
              " '7 00 157278 2000 33 239 39 22 159 22',\n",
              " '18 19 3 500 30 100 18 19 2004 18 19 2004 1 3 3 2 30 3 _ 2004 2 000 60 50 1 18 1 18 2 19 18 50 2004 1 416 292 0038 821 601 3 8',\n",
              " '4 09 01 04 10 2001 11 50 01 4 09 01 60 000 14 9 00 23 00 40 000 10 23 00 9 00 51 667 47 673 48 960 1 027',\n",
              " '26 2000 30 000 90 000 30 000',\n",
              " '31 28 10 17 2000 02 39 10 17 2000 02 30 25 10 17 2000 08 17',\n",
              " '29 1 2000 1 29 2000 16 187 94 230 30 2000 47 917 1 2000 45 000 7 083 15 000',\n",
              " '2001 4 24 01 639615 03 01 368 368 06 24 2001 10 53 2001 745589 639612 639615 745589 04 24 2001 08 11 2001 24636 368 639615 685 3 1 01 3 31 01 0 07 18 457 4 960 250 249 5 459 4 960 18 218 4 960 2001 250 249 22 2 20 20 28 29 22 20 3 40 2 3 40 23 2001 5 52 2001 2',\n",
              " '4 3',\n",
              " '22 2000 622 622',\n",
              " '2001 572910 50 000 50 000 643510',\n",
              " '18 12 29 99 03 15 12 29 99 03 12 18 6722 012 64365 101 96018049 012 77555 105 96016761 12 29 99 02 50 12 29 99 02 49 18 18 8 00 4 2000 6 2000 986833 1 989730 984056 985754 985982 986063 986140 989620 1 984046 985547 989664 986757 985972 986668 985541 984724 984959 985360 984143 984286 985430 989679 989663 985801 989629 986722 989736 989813 986725 986015 985192 36449',\n",
              " '2001 12 26 2000 01 06 12 26 2000 10 00 2001 4 196 9 370 12 26',\n",
              " '',\n",
              " '',\n",
              " '63 2 93 9 aa 2 9',\n",
              " '400 000 3 25 1',\n",
              " '713 345 4013 2 2001 5 00 5 2001 12 00 34 11 2 2001 12 00 00 11 4 2001 4 00 00 11 2 2001 10 00 00 11 4 2001 2 00 00 11 2 2001 6 00 00 11 4 2001 10 00 00 _ 713 345 7354 713 345 7672 713 345 7149 11 1 2001 6 00 00 11 4 2001 12 00 00 11 1 2001 4 00 00 11 3 2001 10 00 00 11 2 2001 12 00 00 11 4 2001 6 00 00 713 345 3077 11 3 2001 10 00 00 11 4 2001 2 00 00 11 3 2001 8 00 00 11 4 2001 12 00 00 11 4 2001 4 00 00 11 4 2001 8 00 00 2 2 713 345 3143 11 3 2001 1 00 00 11 3 2001 4 00 00 11 3 2001 11 00 00 11 3 2001 2 00 00 11 3 2001 7 00 00 11 3 2001 10 00 00 3 503 778 0920 8774937918 503 703 1553 11 2 2001 9 00 00 11 3 2001 1 00 00 11 2 2001 7 00 00 11 2 2001 11 00 00 11 3 2001 3 00 00 11 3 2001 7 00 00 2 713 345 7792 11 2 2001 9 00 00 11 3 2001 1 00 00 11 2 2001 7 00 00 11 2 2001 11 00 00 11 3 2001 3 00 00 11 3 2001 7 00 00 2 713 646 7741 11 2 2001 8 30 00 11 2 2001 11 30 00 11 2 2001 6 30 00 11 2 2001 9 30 00 11 3 2001 2 30 00 11 3 2001 5 30 00 2 3 713 345 8219 2 11 3 2001 9 00 00 11 4 2001 12 00 00 11 3 2001 7 00 00 11 3 2001 10 00 00 11 4 2001 3 00 00 11 4 2001 6 00 00 713 345 6389 11 3 2001 8 00 00 11 3 2001 11 00 00 11 3 2001 6 00 00 11 3 2001 9 00 00 11 3 2001 2 00 00 11 3 2001 5 00 00 5 713 345 4904 713 345 7831 713 345 8016 281 788 9307 2 11 4 2001 1 00 00 11 4 2001 1 30 00 11 4 2001 11 00 00 11 4 2001 11 30 00 11 4 2001 7 00 00 11 4 2001 7 30 00 2 713 345 4810 713 853 1411 713 853 5536 713 345 4727 713 284 3757 713 288 0101 713 639 9726 4 713 285 3165 713 284 4175 713 327 3893 713 853 9797 888 853 9797 713 327 6032',\n",
              " '2000 10 23 00 2000 35 2000 3658 31 13 2 13 9 27 16 23 17 20 15 4 5',\n",
              " '24 24',\n",
              " '03 09 2001 12 05 03 07 2001 03 35 13 03 07 2001 03 33 03 07 2001 11 04 03 07 2001 11 03 03 07 2001 08 15 03 07 2001 08 14 03 07 2001 06 32 25 9 00',\n",
              " '12 13',\n",
              " '15 23 50 45 2004 4 34 153 4 34 153 81 193 34 153 8 11 6 8 11 6 201470 15 2004 23 50 31 0200 200412152150 201470 _ _ 234 15 2004 23 55 15 0200 _ _ 234 1 0 7 0 0 590 292 64 231 8 76 87 03090806 02010207 _ _ 5921185022256 0 1887 1841 1997 1907 1843 1963 1877 1927 1839 64 03090806 02010207 _ _ 5921185022256',\n",
              " '05 31 2000 12 36 05 31 2000 12 29',\n",
              " '1 12 50 000 20 000 30 000 3 5923',\n",
              " '2 3 0 04604902 2 1 2 2 0 2 1 2 2 8 500 986462 2 05',\n",
              " '5 5 5',\n",
              " '9 27002 42 000 2 27003 84 000 126 000',\n",
              " '_ 2005 20 50 60 45 55 _ _ _ _ _ _ _ _ _ _ _ _ _ _ _ _ _ _ _ _ _ _ _ _ _ _ _ _ _ _ _ _ _ 0 19 50 60 2 3 80 2 _ _ _ _ _ _ _ _ _ _ _ _ _ _ _ _ _ _ _ _ _ _ _ _ _ _ _ _ _ _ _ _ _ 60 60 2 4 _ _ _ _ _ _ _ _ _ _ _ _ _ _ _ _ _ _ _ _ _ _ _ _ _ _ _ _ _ _ _ _ _ 0 19 50 60 2 3 80 2 _ _ _ _ _ _ _ _ _ _ _ _ _ _ _ _ _ _ _ _ _ _ _ _ _ _ _ _ _ _ _ _ _ 60 4 100 2 _ _ _ _ _ _ _ _ _ _ _ _ _ _ _ _ _ _ _ _ _ _ _ _ _ _ _ _ _ _ _ _ _ 0 19 50 60 2 3 80 2 _ _ _ _ _ _ _ _ _ _ _ _ _ _ _ _ _ _ _ _ _ _ _ _ _ _ _ _ _ _ _ _ _ 27 1933 21 1934 17 11400 1995',\n",
              " '11 2001 411 411',\n",
              " '00 96026572 612 000 601 000 750 000',\n",
              " '',\n",
              " '1266 2000 08 09 2000 03 52 08 09 2000 03 33 1266 2000 08 09 2000 12 50 1266 2000 08 09 2000 12 47 08 09 2000 11 27 1266 2000 1266 7 1 00 7 31 00 7 1 00 9 00 7 1 00 7 31 00 9 00 8 1 00 36449 08 09 2000 11 18 08 09 2000 11 17 1266 2000 1266 31 2000',\n",
              " '3 5 10 30 80 35 1000 1000 20 40 3 5 0',\n",
              " '2000 981598 2000',\n",
              " '11871528 01 11871528 01 5519 77379 12 49 1 03 13 52 800 464 5365',\n",
              " '5 7225 3 0347 3 3874 2 3 37',\n",
              " '6884 02 23 2001 01 25 6884 02 23 2001 12 50 6884 137870 235670 2001',\n",
              " '22 2000 222 222',\n",
              " '0051 0046 0045 0042 0049 0043',\n",
              " '5 2000 25 000 88 750 25 000',\n",
              " '5000 5000 9 30 20 000 0 4 000 6 00 0',\n",
              " '8 1 45954036 56075519',\n",
              " '',\n",
              " '_ 3 4 1968 _ _ _ 01 _ _ 2 2000 2 2 2 5 2000 2 2 2 128 2000 2000 2000 2',\n",
              " '6296 19 2001 05 21 2001 07 54 _ 05 18 2001 10 14 51 6296 19 2001 500 21 713 651 6858',\n",
              " '5 1 20 000 35 800 40 800 2 7 800 8 000 20 000 5 2 40 800 5 000 8 720 3 720 05 01 2000 09 59 05 01 2000 09 20 5 1 8 000 5 1 40 800 7 800 8 000 25 000 3 720',\n",
              " '80 3 3',\n",
              " '03 27 2000 09 43 03 10 2000 10 18 _ _ _ _ _ _ _ _ _ _ _ _ _ _ _ _ _ _ aa 22 2000 5 2000 12 17 2000',\n",
              " '1044 115 400 68154 4446 402 691 9717 1044 115 400 68154 4446 402 691 9552 09 29 2000 08 09 09 28 2000 07 24 09 28 2000 07 23 09 28 2000 07 22',\n",
              " '981431 5 1 2000 5 31 2000 5 1 2000 942 5 3 2000 68 5 21 2000 65 1 075 119068 2000 6 13 2000 5 1 2000 6 12 2000 1 119068 2 3',\n",
              " '_ _ _ _ _ 36 10 80 1',\n",
              " '1 10 27 2000 11 37 _ _ 10 27 2000 11 15 30 _ _ 1 1',\n",
              " '',\n",
              " '69 02 1',\n",
              " '986892 1 10 4 00 1 1 1 00 10 31 00 2 1 1 99 3 1 1 99 10 31 00 4 10 5 00 1 986892 1 1 99 9 30 00 2 10 5 00 1 501026 2 515136 3 34544 1 2 1 10 05 00 0980439 0986892 2 2000 986892 10 4 00 24 48 980439 24 48 3665',\n",
              " '984179 22 9 1 2000 9 13 2000 9 1 2000 4 873 9 2 2000 4 968 9 3 2000 4 970 9 4 2000 4 816 9 5 2000 5 039 9 6 2000 4 971 9 7 2000 4 971 9 8 2000 1 419 9 13 2000 58 36 085 135714 2000 1 96008903 135714 2 3',\n",
              " '05 2001 4 40',\n",
              " '31',\n",
              " '1000 2 7',\n",
              " '9 2',\n",
              " '17 2001 517 517',\n",
              " '01 00 93481 93481 01 00 3 461 02 00 05 00',\n",
              " '',\n",
              " '',\n",
              " '0 8',\n",
              " '1 31 2000 115 000 27 500 2 500',\n",
              " '3 16 01',\n",
              " '600 60 7 3',\n",
              " '894 345 1 11 01 9797 439825 3543 439837 01 09 2001 03 53 9797 3543 9797 15 889 513 864 345 1 11',\n",
              " '9 28 00 928 928',\n",
              " '2001 1 2 9862 3 4 4 24 01 43 681 29 037 5 04 24 2001 08 03 2001 1 9643 266970 9638 18 2 9848 8 9862 3 3536 520 725391 4 6884 16 125899 132975 73 000 8 600 25 000 38 000 5 639 659998 10',\n",
              " '',\n",
              " '16 2001 516 516',\n",
              " '132976 122218 4 2000 231052 03 31 2000 04 39',\n",
              " '50 000 03 2003 16 01 52 0400 1 0 2 3 483 628 5 5 21 43 6 8 3 3 7 20',\n",
              " '9 6 00 10 545 6 09 06 00 09 21 9 6 00 30 000',\n",
              " '',\n",
              " '10 20 00 0 10 20 00 0 0 3',\n",
              " 'aa 7 56',\n",
              " '4 2000 60 000 70 000 15 000',\n",
              " '5',\n",
              " '',\n",
              " '_ _ 30 37 5 169 99 30 50 99 99 60 1 189 99 5 20 129 99',\n",
              " '15 16 05 17 2001 05 43 09 15 16 5 15 0 417 428 5 16 38 750 38 232 39 264',\n",
              " '29 2001 329 329',\n",
              " '15 17 2000 15 15',\n",
              " '30 300 000 650 24 8',\n",
              " '8348 986363 2',\n",
              " '700 2700 77002 713 830 8659 713 830 8722 713 562 2050 1',\n",
              " '',\n",
              " '2000 3 28 9840 1 000 5467 250 500 6789 12 519 6347 206 5999 11 632 4157 76 9624 100 9835 700 6838 94 2698 1 000 9830 500 6442 609 9845 2 886 2630 322 4688 1 2697 700 6523 100',\n",
              " '10 10 10 31 3 10 10 11 3 6 10 99 99 10 31 11 3 10 11 3 01 6 2001 03 5',\n",
              " '2004 9001',\n",
              " '5961 0 02 15 2000 04 28 02 15 2000 03 47 5961 2 4 02 15 2000 03 41 02 14 2000 04 05 5961',\n",
              " '384237 2000 2000 384247 713 646 8420 2000',\n",
              " '76371 3 5472',\n",
              " '',\n",
              " '19',\n",
              " '989766 470753 25 500 20 046',\n",
              " '2000 14 474 14 000 06 27 2000 03 05 06 26 2000 04 24 2000 3 6353 06 26 2000 04 24 06 26 2000 04 18 41 2 2000 2000 9760 14 000 9822 0 9822',\n",
              " '',\n",
              " '12 2000 103 125 30 000',\n",
              " '1238 12 13 2000 02 09 12 13 2000 10 06 12 13 2000 09 04 12 13 2000 10 02 14 0 13 1769 405 552 4585 405 391 9398',\n",
              " '19 2000 719 719',\n",
              " 'aa 1 5 aaa aaaa aaaaa',\n",
              " '4 2001 504 504',\n",
              " '2 3',\n",
              " '03 23 2000 01 09 03 23 2000 10 07 3 6353',\n",
              " '8018 0001 3',\n",
              " '2000 362125 2001',\n",
              " '2000 11 21 2000 10 11 11 21 2000 10 14 11 2000 20 2000 4 04 2000 2000 10 000 1521 170 77339 281 359 4610 281 359 4656',\n",
              " '',\n",
              " '10 00 10 00 452491 20014903 24 26 28 31 0 01 0 02 452491 25000200 0 02 0 10 452475 25000200 0 005 0 02 0 11',\n",
              " '',\n",
              " '9760 10 25 2001 01 11 9760 9760 1 12 1 01 1373 07 1 1 2001',\n",
              " '',\n",
              " '1874 1956 1943 1749 1827',\n",
              " '28 2000 228 228',\n",
              " '1 2 21 8 2000',\n",
              " '52 2 94 2',\n",
              " '_ _ _ _ _ _ _ _ _',\n",
              " '2000 10 16 2000 11 15 10 10 2000 10 18 1 0030 144052 1 0027 144049 1999 3 7548 10 10 2000 10 03 10 09 2000 02 47',\n",
              " '2 4 2000 2 4 2000 02 03 2000 10 50 2 3 2000 33 500 2 3 2000 30 700 8 500 25 000',\n",
              " '16 800 010 8532 5056',\n",
              " '',\n",
              " '1 45 31 6 3 6 35615',\n",
              " '',\n",
              " '7 2001 407 407',\n",
              " '1 2',\n",
              " '1552 10 000 1552 1 4 355',\n",
              " '15 2001 515 515',\n",
              " '327963 07 12 2000 01 05 07 11 2000 08 51 07 11 2000 09 18 327963 9842 2 800 96 7 6 7 31 327964 9844 150 100 0 14 7 8 7 31 3 6353',\n",
              " '2005',\n",
              " '19 20 21 0 989603',\n",
              " '372',\n",
              " '3',\n",
              " '3 11',\n",
              " '2 28 03 01 2001 11 12 03 01 2001 10 08 37 2 28 2 28 01 0 0 0 1 027',\n",
              " '07 25 2000 01 25 07 24 2000 09 43 3 6353',\n",
              " '30 2001 7 17 29 2001 6 17 311 7',\n",
              " '6296 11 036 7100 9656 922 950 896 1',\n",
              " '',\n",
              " '04 26 2000 11 31 04 25 2000 05 49',\n",
              " '5 21 5 22 9 5 21 10 000 9 399 601 5 22 10 000 8 312 1 688',\n",
              " '10 60 279 99 90 329 99 120 369 99 1 30 169 00 60 229 00 90 269 00 120 309 99 0 500 30 159 99 60 249 99 90 319 99 90 289 99 60 289 99 50 20 99 99 40 149 99 120 269 99 200 349 99 100 20 119 99 40 179 99 120 349 99 200 449 99 60 79 99 90 99 99 15 60 139 00 180 249 00 37 5 30 149 00 90 299 00 60 229 00 50 30 89 00 90 149 00 60 129 00 5 30 149 00 60 249 00 30 99 00 60 159 00 90 189 00',\n",
              " '14 2000 914 914',\n",
              " '03 01 5 30 04 01 04 01 745578 06 07 22 2 20 20 28 29 22 20 3 40 2 3 40 24 2001 2 47 03 01 24 2001 2 44 03 01 3 40 24 2001 2 37 03 01 5 30 5 31 24 2001 2 17 03 01 0401 3 40 24 2001 1 38 03 01 3 154 56 5 25 01 5 29 01 24 2001 1 30 03 01 03 01 2594 3 154 56 5 25 01 1201 1524 77002 713 571 3274 713 646 8875',\n",
              " '',\n",
              " '5 0 5 5 1 2 3 1 _ 2 4 1 2 5 30 1 10 6 6 00 6 00',\n",
              " '23 2000 1 623 623',\n",
              " '16 16 95',\n",
              " '5593 5593 00 00 1 054 133169 00',\n",
              " '848 316 89107',\n",
              " '21 2000 120 000 30 000',\n",
              " '1999 2000 2000 1 2 3 4 5',\n",
              " '7 7 2000 7 7 57 800 25 000 7 800 25 000',\n",
              " '16 2001 45 000',\n",
              " '11 11 11 10',\n",
              " '04 01 712357 2630 18 21 100 1 38 712358 9603 8 100 84',\n",
              " '5',\n",
              " '',\n",
              " '',\n",
              " '03 26 2001 09 10 03 24 2001 10 26 11 2001 60 000 0 35 000 25 000 0 713 277 9307 713 277 9941',\n",
              " '9 18 3 3103 3 6517 03149 12 08 22 00 90933 34880 07 17 00 9 19 00 9 21 00',\n",
              " '35 00 35 00 281 343 9999 39 00 49 00 40 11 30 11 3 20 3 50 11 40 11 2 30 2 4 25 4 19 15 1 2 26 10 1 2 7 30 9 30 25 12 00 3 00 20 12 00 3 00 281 395 4653 6 2 20 00 11 3 25 00',\n",
              " '0439',\n",
              " '150 8 1 58 74 4 37 20',\n",
              " '2000 2 05 26 2000 09 09 05 26 2000 08 57 14 2000 2 600 2',\n",
              " '',\n",
              " '10 06 2000 04 22 _ _ 10 06 2000 03 59 29',\n",
              " '6 7 554 11 10 000 012 01 06 8 500 5 6 7 554 11 10 000 32 30 3 1997 7 860 12 2 000 27 1933 21 1934 1934 1933 7',\n",
              " '9747 3 901 3 426 475 9787 1 604 1 713 109 9808 4 890 4 950 60 9741 2 783 2 570 213 519 3 6353',\n",
              " '24 _',\n",
              " '2000 2000',\n",
              " '2 12 17 3 30 00 0600 30 2000 12 09 48 7',\n",
              " '11 2004 18 51 29 0600 11 2004 18 51 29 0600 5825 3719 0357 1568 08 17 04 2 8 300 000 aa aa',\n",
              " '14',\n",
              " '3 19 01 3 19 01 03 20 2001 01 24 03 20 2001 10 05 59 3 19 01 3 19 01 60 000 59 944 61 562 1 027',\n",
              " '0986725 1 00 3 9497 05 26 2000 03 01 05 26 2000 08 45 0986725 1 00 1 3 6 20 21 31 20 3 9497 05 26 2000 08 42 05 26 2000 08 41 0986725 1 00 05 26 2000 08 40 04 10 2000 02 13 0986725 1 00 21 31 1 20 04 03 2000 05 19 0986725 1 00 04 03 2000 05 18 04 03 2000 05 14 0986725 1 00 04 03 2000 05 10 0986725 1 00 2000 21 31 21 31 215 04 03 2000 05 08 04 03 2000 05 00 0986725 1 00 04 03 2000 02 29 04 03 2000 10 00 0986725 1 00 3 6004 03 03 2000 02 11 0986725 1 00 152638 21 31 03 03 2000 01 36 03 03 2000 01 34 0986725 1 00 0986725 1 00 41 671 3 6004',\n",
              " '',\n",
              " '30 000 04 24 2001 02 25 04 24 2001 01 53 08 80 80',\n",
              " '26 2001 4 17 139 1 139 2 139 3 10 29 31 1 27 17 28 17 28 1 4 5 1 11 12 139 15 16 17 26 139 14 139 13 71 6 8 41 44 1 4 16 1 3 1 1 3 1 7 11 5 48 1 17 6 31 33 29 11 31 3 139 17 18 3 17 32 40 19 5 32 41 33 3 4 29 37 4 2 13 3 20 2 2 16 17 2 1 3 4 34 18 40 11 21 3 4 21 3 4 17 23 17 26 1 3 8 31 2 5 18 19 2 5 18 19 1 4 10 8 31 32 1 2 23 8 38 39 15 7 3 14 15 1 12 13 15 11 32 1999',\n",
              " '11 14 2000 11 32 10 31 2000 02 14',\n",
              " '30 2001 30 30',\n",
              " '5 465335 4 77 8 635 827 24 aa',\n",
              " '4 00',\n",
              " '2000 22 23 24 2 0 92794 2 0',\n",
              " '10 00 12 12 2000 04 48 10 00 2000 529856 1 798 389 73 2000 12 12 2000 04 37 12 07 2000 09 18 10 00 1 395 000 45 000 514353 2003 10 1 10 1 00 12 31 36 2 571 135 73 1 798 389 73',\n",
              " '3 22 01 03 23 2001 09 56 45 3 22 01 38 334 36 871 37 867 1 027',\n",
              " '2000 9 01',\n",
              " '2 50',\n",
              " '00 6753 8714 23 174 946 9114',\n",
              " '25 000 35149 337 5247 26371545 2005 54866235 1 500 000 00 888 1102 1000 2 31 616 128 445 31 847 300 746 20 18',\n",
              " '04 10 2001 01 12 4 00 3567',\n",
              " '10 4 00 0 10 4 00 0',\n",
              " '',\n",
              " '157288 2 52 2 53 05 2 52 06',\n",
              " '',\n",
              " '4 2001 404 404',\n",
              " '2000 03 29 2000 03 52 03 29 2000 03 54 45 2000 2000 4 1 2000 11 100 1 900 13 000 1 075 14 65 512 576 1005 5555 1200 77056 713 964 9434',\n",
              " '',\n",
              " '2000 1 2 17 278 1 008 87 519 73 5 8643 08 31 2000 05 49 2000 2 1 1 2 08 31 2000 05 28 2000 2000 157278 1 008 87 157288 519 73',\n",
              " '6 2000 8 750',\n",
              " '11 6722 24 14',\n",
              " '5500 90565 85148',\n",
              " '22 2001 5000 1000 1 2499 0 2500 5499 5000 5500 6499 6000',\n",
              " '13 2000 120 000 30 000',\n",
              " '04 11 2000 10 33 04 11 2000 10 09 04 11 2000 09 54',\n",
              " '08 28 2000 04 33 6523 200 382601 91 5923 775 382610 100 0 24 5848 240 382621 100 0 24 2630 21 382627 90 0 258 6347 200 382631 85 3 6353',\n",
              " '',\n",
              " '1591 04 25 2000 12 10 04 24 2000 01 03 1591 1591 1 000 429 000 1 28 99 11 692 4 1 4 2 04 24 2000 12 50 04 24 2000 12 43 1591 1591',\n",
              " '2 08 01 40 000 41 358 02 09 2001 10 15 02 09 2001 09 15 35 2 08 01 40 000 39 959 41 358',\n",
              " '28 1999 228 228',\n",
              " '7 00',\n",
              " '986892 2 4 986892 515136 60217 980439 501026 286715 439 10 05 2000 04 27 10 04 2000 01 06 986892 1 2 4 5 6892 6 37649 10 04 2000 01 01 10 04 2000 12 40 986892 0 986892 10 4 2000 10 5 2000 0 10 6 10 6 10 03 2000 05 19 986892 1 10 4 00 1 1 1 00 10 31 00 2 1 1 99 3 1 1 99 10 31 00 4 10 5 00 1 986892 1 1 99 9 30 00 2 10 5 00 1 501026 2 515136 3 34544 1 2 1 10 05 00 0980439 0986892 2 2000 986892 10 4 00 24 48 980439 24 48 3665',\n",
              " '700 2700 77002 713 830 8659 713 830 8722 1',\n",
              " '2000 452582 9840 890 452574 9858 1 000 452579 9857 537 452590 6347 139 452595 5848 183 452597 5923 562 452600 6879 359 452601 9849 300 453067 9860 700 452566 9856 2 700 453305 2630 322 453483 2697 1 016 453525 9603 1 453572 6523 106',\n",
              " '10 2000 810 810',\n",
              " '7 00 8 00 7 00 8 00 2000 157278 759 75 33 992 14 33 232 39 7 00 2000 157278 90 18 6 745 50 6 835 68 157288 9 575 45',\n",
              " '12 17 99 03 46 12 17 99 03 34 44 2 2001 6 01 6 01',\n",
              " '26 28 2000 8018 35 000 9687 4 000 2 13 000 8 30 1394 10 000 5 000 25 000 12 15 000 4 9',\n",
              " '11 30 2000 06 20 11 30 2000 04 40 377169 97 97 11 30 2000 04 39 11 28 2000 02 38',\n",
              " '10 18 2000 09 31 10 18 2000 08 11 10 18 2000 08 09 10 18 2000 07 53 00 769',\n",
              " '2000 09 26 2000 09 52 09 26 2000 09 53 2000 2000 9645 130880 9676 279659 5547 133168 6353 138841 6392 93487 0071 138550 6388 362921 6722 166395 9848 379424',\n",
              " '104210 6 00',\n",
              " '28 29',\n",
              " '1517 1 19 5882 1 7 00 01 10 2001 09 14 01 10 2001 09 00 1517 1 2 4 01 10 2001 08 55 1517 1 5 00 1 045 01 09 2001 02 25 1517 01 09 2001 02 25 01 02 2001 02 14 1517 1517 0 5 400 1 506192',\n",
              " '6 2000 006 006',\n",
              " '06 22 2000 10 57',\n",
              " '25 25 24 31787',\n",
              " '2000 02 28 2000 02 31 02 25 2000 04 52 2000',\n",
              " '9 6 00 9 7 00 01 10 2001 02 41 9 6 00 9 7 00 01 10 2001 02 07 9 6 00 9 7 00 391119 9 6 10 545 0 04 0 04 2000 01 10 2001 10 58 9 6 00 9 7 00 391125 04 01 10 2001 10 57 01 10 2001 10 42 30 9 6 00 9 7 00 01 10 2001 10 41 09 06 2000 03 39 9 6 00 9 7 00 9 6 00 8500 10955 10545 10545 9 6 00 04 09 06 2000 01 07 09 06 2000 09 58 9 6 00 9 7 00 30 000 8500 10955 10545 9 7 00 30 000 8500 21500',\n",
              " '2 3 1472 aa 100 aa aa 40 5 35 8 0 1 50 3 6 0 3 35 1 5 1 40 6 0 2 25 2003 1 2 25 2003 2 2 35 2002 25 2003 1 35 2003 1 35 2 1 1400 1 2',\n",
              " '984132 1 16 99 10 000 51862 5 16 5000 3167 16 0 6155 3167 16 08 24 2000 08 33 984132 1 16 99 3 9497 08 24 2000 08 32 08 23 2000 04 27 984132 1 16 99 5 10 0 201 16 16 5 08 23 2000 12 59 984132 1 16 99 08 23 2000 12 54 08 22 2000 02 51 984132 1 16 99 08 22 2000 02 51 08 22 2000 02 07 984132 1 16 99 1 16 99 984132 20 000 10 000 5 16 16 51862 6155 10 000 10 000 10 000 1 16 99 10 000 5 000 5 16 10 000 5 5 000 5 000 16',\n",
              " '10 1 25 000 10 15 8 00 8 30 30 1 000 10 000 1 10 20 000 20 000 16 15 300 000 5 17 20 000 18 4 1 00',\n",
              " '09110129 308 000 522 2',\n",
              " '659 661 2699 740 897 8873',\n",
              " '',\n",
              " '',\n",
              " '4 83347 83905 6 1 99 12 31 99 1 1 2001 5 31 01 4 6 1 99',\n",
              " '6 2001 406 406',\n",
              " '25 36832',\n",
              " '30',\n",
              " '2000 11 14',\n",
              " '5892 2000 2001 02 21 2001 05 38 5892 02 21 2001 04 46 5892 02 21 2001 02 59 5892 5892 859 2000 3 251 2001 281 646 0232 31539',\n",
              " '04 13 2000 04 38 98037831 1 2000 96016936',\n",
              " '9 00 5228 08 24 2000 03 40 9 00 5288 33321 08 24 2000 03 34 08 24 2000 03 33 9 00 9 00 2 2697 2000 1 2000 9797 10 000 33321',\n",
              " '70 246637 70 22 95 4 95 20 811692318 10 20 _ _ _ _ _ _ _ 246637 _ _ _ _ _ 15 30 246637 134 _ _ _ _ _ _ _ _ _ _ _ _ _ _ _ _ _ _ _ _ 63884831 _ _ _ _ _ _ _ _ _ _ _ _ _ _ _ _ _ _ 70 473545278 _ _ _ _ _ _ _ _ _ _ _ _ _ _ _ _ 246637 _ _ _ _ _ _ _ _ _ _',\n",
              " '13 2 2',\n",
              " '508 786 7205 781 894 4465 508 326 2435 713 613 4396 713 668 0488 800 759 7243 2377872 713 416 3014',\n",
              " '',\n",
              " '6 4 99 6 9 99 98 0439 11 02 2000 02 47 6 4 99 6 9 99 98 0439 11 02 2000 02 49 11 02 2000 02 06 6 4 99 6 9 99 98 0439 11 01 2000 06 34 6 4 99 6 9 99 98 0439 1999 1999 1999 2 11 01 2000 02 50 6 4 99 6 9 99 98 0439 11 01 2000 02 54 11 01 2000 11 25 6 4 99 6 9 99 98 0439 98 0439 3 9497 11 01 2000 11 23 11 01 2000 10 16 6 4 99 6 9 99 98 0439 11 01 2000 10 03 6 4 99 6 9 99 98 0439 6 3 99 6 8 99 202 6 4 548 6 9 40 3 9497',\n",
              " '26 26 1 052 500 1 905 000',\n",
              " '23 2001 713 853 6357',\n",
              " '1904 12945 05 25 2000 08 21 05 24 2000 05 57',\n",
              " '10 4 03 31 00 281 358 1155 21 10 28 4 1 2 2000 03 31 00 281 358 1155 10 10 03 31 00 13 15 2000 281 358 1155',\n",
              " '1000 1000 48',\n",
              " '',\n",
              " 'aa 9',\n",
              " '5 1 2 3 0469 80 20 100 3 3859',\n",
              " '2001 2001 2001 18 2001 2000 2001 11',\n",
              " '96037499 10 2000 06 06 2000 03 33 06 06 2000 03 33',\n",
              " '2001 2001 384258 2 291 888 83',\n",
              " '',\n",
              " '05 01 06 14 01 11 44 06 14 01 10 58 05 01 713 853 6905 6827 06 13 2001 03 44 05 01 0491 9961 05 01 428 980428 5 11 01 143 5 31 01 286 429 05 01 04 01 70120 05 01 05 01 70120 05 01 6827 9961 0491',\n",
              " '8 99',\n",
              " '25 2000 825 825',\n",
              " '11 01 00 101 101',\n",
              " '9859 450391 250 9859 0 11',\n",
              " '3 7 8 5 3 3 5 0 3 5 0',\n",
              " '8 9',\n",
              " '13 2000 713 713',\n",
              " '02 05 2001 02 22',\n",
              " '0980438 7 1 2000 1 12 3 6353 10 24 2000 09 03 0980438 380710',\n",
              " '',\n",
              " '01 028 27099 02 002 1265 10 000 028 27099 02 002 2187 60 028 27099 02 002 6301 18 963 713 345 3042 713 345 7701',\n",
              " '3 197 168 3 4 279 7 499 2 189 79 19 95 549 3 197 499 8 619 1 6 579 319 5 279 59 00 7 579 7 7 526 5 475 289 7 599 79 7 999 300 108 92008',\n",
              " '2000 06 27 2000 09 32 06 27 2000 09 24 2000 5 000 3 6353 06 27 2000 09 23 _ 06 26 2000 04 36 50 _ _ _ _ _ _ 2000 _ 2000 _ 2000',\n",
              " '08 23 2000 04 44 08 23 2000 04 37 39177',\n",
              " '22 16 30 24 1999 4 0 15 56 1 4 0 2 4 0',\n",
              " '1 01 2001 514353 45 000 46 113 384258 3 934 644 50 3 841 888 11 2001',\n",
              " '11 29 00 129 129',\n",
              " '20 22 2000 20 2000 0 75 000 21 2000 0 84 375 22 2000 0 115 625',\n",
              " '08 16 2000 03 26 08 16 2000 02 00 1 5 2 5 10 1',\n",
              " '8859 7 128 01 25 2004 18 03 58 0300',\n",
              " '2 06 09 2000 01 24 06 09 2000 10 54 04 2 6 12 00 6 15 00 12 6 12 00 305 61200 330 61200 330 61200 330 61200 333 61200 337 61200 23 61200 41 61200 28 61200 560 61200 580 61200 28 61200',\n",
              " '3 26 01 26 2001 20 000 0900 1400 5 40 000 1400 0100 11 22 500 214 812 4404 03 27 2001 09 39 00 3 26 01 24 167 21 820 22 409 1 027 3 23 3 25',\n",
              " '18 2001 10 35 18 2001 9 41 18 2001 9 16 17 2001 1 25 713 345 8986 713 646 8511 713 698 4847 17 2001 1 11 17 2001 9 38 17 2001 9 31 17 2001 9 18 713 853 0570',\n",
              " '2 2000',\n",
              " '713 853 7339',\n",
              " '24 2000 72 922',\n",
              " '2001 11 2001 8 08',\n",
              " '7266 7266 15 012 41500 05 002',\n",
              " 'aa',\n",
              " '60 3 20 69 3',\n",
              " '3 5824 3 6218 1 877 473 1343 1 877 473 1344',\n",
              " '608324 001 316 33309',\n",
              " '7 00 7 00 7 24 8 1 00 3 6517 3 3103',\n",
              " '6 8 4 3 50 3 50 8 83 434 7 1 3 3',\n",
              " '26 20000',\n",
              " 'aaa 10 16 2000 05 57 10 16 2000 12 14 10 16 2000 11 39 04 45 000 10 10 2000 03 41 4',\n",
              " '8 10 2000 8 2000 50 000 25 000 15 000 9 2000 15 417 69 583 40 000 10 2000 112 500 25 000 15 000 09 11 2000 03 58 09 11 2000 01 31 8 10 2000 8 2000 50 000 25 000 15 000 9 2000 85 000 40 000 10 2000 112 500 25 000 15 000',\n",
              " '',\n",
              " '800 759 7243 2377872 877 502 9986',\n",
              " '6 7',\n",
              " '21 682244 980068 682229 981040 30 000 33396',\n",
              " '1 23 2000 10 000 30 000 45 000 10 000 30 000 28 2000 10 000 61 250 8 750 30 000 10 000 66 250 3 750 30 000',\n",
              " '',\n",
              " '6 3',\n",
              " '01 16 2001 11 35 01 16 2001 08 23 01 16 2001 08 23 12 19 2000 03 32 26 2001 110 000 0 35 000 40 000 35 000 7 20 000 90 000 713 277 9307 713 277 9941',\n",
              " '3 19 01 03 20 2001 10 05 59 3 19 01 3 19 01 60 000 59 944 61 562 1 027',\n",
              " '848 316 8 9107',\n",
              " '2000 2000 3949 2000 0 0',\n",
              " '8 25',\n",
              " '986315 10 00',\n",
              " '',\n",
              " '2001 25 24 05 16 2001 03 04 2001 45 000 45 000 16 2001 12 49 2001 2001 384258 2 653 694 95 2 607 176 02 514353 45 000 44 590',\n",
              " '1 14 00 8 30 9814 500 100 3 6353',\n",
              " '13 2000 613 613',\n",
              " '1 3 9858 1 9858 2001 2 2 10 000 2001 0 10',\n",
              " '6 30 06 07 2000 12 50 1999 2000 19 2000 1 1999 2000 2 6892 3 74 74 4 4486 4486 4486 4486 5 4607701 6 7',\n",
              " '01 24 2000 01 38 01 24 2000 09 17 12 1 99 12 31 99 6673 750 100 0 17 01 1 00 01 31 00 6673 750 100 0 17 3 6353',\n",
              " '09 20 2000 07 38 09 20 2000 07 32 09 19 2000 11 28 2019',\n",
              " '',\n",
              " '2 50 70 1 18 00',\n",
              " '21 2001 321 321',\n",
              " '2001',\n",
              " '9 8',\n",
              " '2000',\n",
              " '11 2001 51 250',\n",
              " '',\n",
              " '3 19 01 03 20 2001 10 05 59 3 19 01 3 19 01 60 000 59 944 61 562 1 027',\n",
              " '100 100 2 50 300 3 25 800 19',\n",
              " '19 2004 10 17 36 0500 7 629 5 30 7 629 5',\n",
              " '11 01 384258 3 096 547 98',\n",
              " '2 99 2 99 2 99 2 99 3 99 1999 1999 504 183 1265 1999 504 183 834 134 1265 713 853 1801',\n",
              " '',\n",
              " '1 31 2000 70 000 8 000 12 000 09 01 2000 10 54 09 01 2000 10 25 31 2000 18 000 52 000 20 000',\n",
              " '780 115 7163 351 226 7852',\n",
              " '1 2 3 4 5 6 1 2 3 4 5 01 20 2000 10 06 11 30 1 00 3 9272 21 2 00 3 00 3749 3 9272',\n",
              " '981459 2000 06 00 981459 15 9416 14 650 1 34 1007 9415 34 16 0 1007 9415 0 2 34 1007 9415 34 17 0 1007 9415 0 3 34 1007 9415 34 18 0 1007 9415 0 4 34 1007 9415 34 19 0 1007 9415 0 5 34 1007 9415 34 20 0 1007 9415 0 6 34 1007 9415 34 21 0 1007 9415 0 7 0 1007 9415 0 22 0 1007 9415 0 8 0 1007 9415 0 23 0 1007 9415 0 9 0 1007 9415 0 24 0 1007 9415 0 10 0 1007 9415 0 25 0 1007 9415 0 11 0 1007 9415 0 26 0 1007 9415 0 12 0 1007 9415 0 27 0 1007 9415 0 13 0 1007 9415 0 28 0 1007 9415 0 14 0 1007 9415 0 29 0 1007 9415 0 15 0 1007 9415 0 30 0 1007 9415 0 204 1000 0000 204 08 00 981459 15 9416 14 650 1 33 1012 6934 33 17 0 1012 6934 0 2 0 1012 6934 0 18 0 1012 6934 0 3 0 1012 6934 0 19 0 1012 6934 0 4 0 1012 6934 0 20 0 1012 6934 0 5 0 1012 6934 0 21 0 1012 6934 0 6 0 1012 6934 0 22 0 1012 6934 0 7 0 1012 6934 0 23 0 1012 6934 0 8 0 1012 6934 0 24 0 1012 6934 0 9 0 1012 6934 0 25 0 1012 6934 0 10 0 1012 6934 0 26 0 1012 6934 0 11 0 1012 6934 0 27 0 1012 6934 0 12 0 1012 6934 0 28 0 1012 6934 0 13 0 1012 6934 0 29 0 1012 6934 0 14 0 1012 6934 0 30 0 1012 6934 0 15 0 1012 6934 0 31 0 1012 6934 0 16 0 1012 6934 0 33 1000 0000 33',\n",
              " '2',\n",
              " '80 700 99 9 27 2005 01 50 29 0600 37 80 69 95 2 79 95 2000 59 95 2000 69 95 4 0 49 95 4 0 49 95 59 95 9 958 49 95 9 958 49 95 9 955 49 95 79 95 2000 2 59 95 9 957 2 49 95 2003 1 89 95 2003 69 95 7 0 69 95 59 95 2000 69 95 8 139 95 2004 3 89 95 2003 69 95 2004 69 95 2004 2 69 95 7 69 95 9 95 59 95 2003 69 95 7 69 95 7 2 69 95 10 69 95 6 79 95 7 69 95 9 959 95 3 129 95 5 149 95 3 0 59 95 69 95 6 0 79 95 6 69 95 69 95 69 95 2 0 69 95 9 959 95 6 5 89 95 2004 69 95 2004 69 95 2004 69 95 11 69 95 2004 69 95 69 95 2004 69 95 2004 69 95 2004 69 95 2004 2004 139 95 11 59 95 8 59 95 10 69 95 2003 59 95 7 2 69 95 6 69 95 11 59 95 8 59 95 7 0 59 95 3 0 59 95 8 aa',\n",
              " '02 29 2000 04 27 02 29 2000 04 10 1 96019316 2 29 00 6834 6834 89 0 41 02 29 2000 02 34 1 3 6992',\n",
              " '0986563 358125 08 02 2000 10 19 0986563 96036946 4 1 2000 3 31 2002 19 2000 6563 19 85 4 2 00 4 30 00 3 6353 08 02 2000 09 34 0986563 12 99 04 02 00 1 517',\n",
              " '503046 10 3500',\n",
              " '',\n",
              " '81 52 4890 1361 403 28 10939 7876 379 165 2243 1392',\n",
              " '70',\n",
              " '03 27 2000 02 17 03 27 2000 09 05 03 27 2000 09 04 03 24 2000 01 40 141977 0 10',\n",
              " '9836 30',\n",
              " '16840862 16840862 5519 77379 14 48 7797 90 115 1757978',\n",
              " '10 2001 510 510',\n",
              " '10 19 3 63 0 0',\n",
              " '',\n",
              " '28 28',\n",
              " '08 00 2000 2000 8 24 3 3103',\n",
              " '35375 13 2001 3 39 13 2001 3 38 2000 2',\n",
              " '4 9 08 16 2000 10 05 08 16 2000 10 02 4 9 8 16 2000 9 59 46 4 5 35536',\n",
              " '42 2599 42 512 370 8280 42',\n",
              " '4 2 6 1200',\n",
              " '1 4',\n",
              " '05 2005 13 03 41 0200 3 3 8',\n",
              " '04 01 08 2001 4 13 04 01 07 2001 2 58 04 01 04 01 413462 04 01 03 01 05 01 04 01 413462 10 000 _ 1 11 000 _ 2 1201 1524 77002 713 571 3274 713 646 8875',\n",
              " '85 000 65 000 68 000 713 830 8811 700 2700 77002 713 830 8659 713 830 8722',\n",
              " '5 1 01 01 20 5 200 20 800 04 26 2001 01 14 04 26 2001 11 16 53 5 1 01 01 01 01 405 270 2296 01 26 000 20 5 200 80 20 800 01 405 270 2070 405 270 2296',\n",
              " '96035668 212225 1 2000 1 2000 31 2001 3 30 00 8 21 00 35231 03 16 2001 08 58 96035668 212225 4 1 00 3 31 01 10 03 15 2001 02 42 96035668 212225 16 2001 10 35656',\n",
              " '',\n",
              " '81 79 85 3 82',\n",
              " '11 00 0 0 5 75 3 199 95 90 559 95 51310 141 846 4191 799 814 1171 55 16 2004 08 31 27 0200',\n",
              " '2275 74 2275',\n",
              " '4 5 3 5',\n",
              " '299 00 32 00 254 00 5 8 0 1 3 6 0 3 7 0 1 5 0 2005 2005 3 3 1 5 1 12 3 7 0 2004 7 0 2004 7 0 2004 7 0 2004 1 2004 1 2003 5 2003 2 2002 2002 2003 2004 2004 1 14 1 2 2 1 2003451 3 7 01 1 2 0 2003 8 10 03 850 55 00 32 00 50 00 32 00 40 00 32 00 32 00 36 00 25 00 32 00 25 00 25 00 32 00 30 00 50 00 20 00 40 00 25 00 32 00 20 00 25 00 40 00 32 00 20 00 20 00 25 00 25 00 40 00 20 00 20 00 93 00 20 00 aa 100 aa aa aa aa aa 850 aa 2 3 850',\n",
              " '17 2000 35 18 2000 35 6 30 5 00 10 00 12 00 2 1 15000 4 7 5 0 2',\n",
              " '80 15 99 2 99 17 99 3 99',\n",
              " '1 2001 301 301',\n",
              " '09 2002 3 03 1 10 000 7 27 2',\n",
              " '2 12',\n",
              " '10 79 95 49 95 25 129 95 99 95 40 189 95 149 95 65 259 95 199 95',\n",
              " '12 2000 8 13 _ _ 065 065 11 2000 1 28 10 2000 20 32 53 0600 2000 1 49 2 85 65 300 9',\n",
              " '2000 2000 3949 2000 0 0',\n",
              " '2000 2000 3949 2000 0 0',\n",
              " '24 1 14 00 19 49 2 19 50 24 00 3 00 01 13 59 4 12 50 24 00 5 00 01 12 49',\n",
              " '3 01',\n",
              " '17 8477 01 178477 01 17 0973 13 17097613',\n",
              " '37258 300 000 700',\n",
              " '8721 1105 90069 4507 2',\n",
              " '02 21 2001 08 03 02 20 2001 04 32 3 6353',\n",
              " '22 1997 1 96006408 2 96006409 3 96006412',\n",
              " '951474 8 23 01 2001 12 31 00 2001',\n",
              " '07 00 2000 36 000 2000 11 000',\n",
              " '1 3',\n",
              " '10 00 2000 0 04',\n",
              " '22 2001 323 323',\n",
              " '28 30 2000 28 77 5 9 0 2 4 120 0 5 60 0 6 8 0 07 31 2000 10 24 09 28 30 2000 28 2000 10 000 61 250 8 750 30 000 29 2000 10 000 100 000 30 000 30 2000 10 000 110 000 30 000',\n",
              " '19 04 20 2001 01 23 04 20 2001 01 00 55 19 8 333 04 20 01 12 54 19 4 19 01 25 000 0900 11000 2 25 000 0300 0900 6 8 333 04 20 2001 11 49 48 19 2 9 00 11 00 25 000 2 084 5 819 5 977 1 027',\n",
              " '1102 501 25701 0 392 60 2 05 1333 120 101 80234',\n",
              " '880 880 56 2 3 2 3 1 1 2 1044 27931 22',\n",
              " '10 11 15 00 4 00 4 00 12 00 4 00 11 00',\n",
              " '09 2001 2 48 07 2001 4 09',\n",
              " '3735 8 9',\n",
              " '8434',\n",
              " '141877 141883 141884 09 10 11 141877 141833 141884 156256',\n",
              " '',\n",
              " '3 2001 7 500 30 000',\n",
              " '15 2001 0507544 7138536905 713 853 7839 713 345 4185',\n",
              " '10 _',\n",
              " 'aa 1 1 aa 0 aa 8859 1 aa aa',\n",
              " '1',\n",
              " '2000 2000 635 85 2000 33278',\n",
              " '07 11 2000 11 48 07 11 2000 08 17 4 098 4179 07 10 2000 05 17 4 098 4179 07 10 2000 02 18 4 098 4179 07 10 2000 02 17 07 10 2000 02 14 4 098 4179 4 68228 07 10 2000 10 14 4 098 4179 07 10 2000 10 13 07 10 2000 10 11 4 098 4179 07 10 2000 10 08 07 10 2000 09 01 4 098 4179 325550 07 07 2000 03 34 4 098 4179 4179 4 7 7 00 1 500 7 8 00 3 000 7 9 00 7 31 00 4 000 93 07 07 2000 03 03 07 07 2000 01 11 4 098 4179 4 4 96008903 96008903 96008903 3 6992 07 07 2000 01 04 07 06 2000 03 25 4 098 4179 098 4179 1 2 50 50 3 07 06 2000 11 09 4 098 4179 098 4179 40 85 1130 18 1 2 3 3 6992 07 06 2000 11 06 07 06 2000 09 37 4 098 4179 3 098 4179 2 4 2 4 4 4 96008903 96008903 39 600 3 6992 07 06 2000 09 21 07 04 2000 01 28 4 098 4179 4 000 2000 960 3 36 2 4 4 2 960 098 4179 1 1 2 2 2 2 4 2 3 6992 07 04 2000 12 48 06 29 2000 04 56 4 4 2000 5 000 2 39050 06 29 2000 02 46 04 07 2000 10 48 4179 9676 4179 3 39 2 1 00 1180 1200 1988 014 05 02 049 05 _ _ _ _ 183 02 _ _ _ _ 16 3 5901',\n",
              " '5 3',\n",
              " '26 12 20 2000 08 34 26 27 22',\n",
              " '36224',\n",
              " '14886 1400 77002 5 15 000 5 15 000 210 353 3060 1771 145 78296 210 353 2876',\n",
              " '420022 09 28 2000 02 09 6879 500 100 0 12 10 1 10 31 09 28 2000 10 52 09 28 2000 07 41',\n",
              " '60 1 80 2 7 7 10 120 3 2004 2004 100 2003 2000 2000 2000 2000 4 0 98 95 2000 97 2000 2004 2003 2004 2004 7 9 2003 6 2004 2004 2004 11 12 11 8 2002 2003 7 6 2 47 3 9 2',\n",
              " '6 16 97 4 6 0 5 385 615 97 4 15 0 3 461 1 539 9 49 3 5 3 286 214 6 17 201 34 12 110 10 831 1 279 6 18 201 34 12 110 10 166 1 944',\n",
              " '709296 5322 5323',\n",
              " '10 10 2000 02 06 10 10 2000 09 54 35465 10 10 2000 07 54',\n",
              " '',\n",
              " '1400 3885 77002 713 853 7658 713 646 3490',\n",
              " '03 20 01 03 21 2001 11 08 26 03 20 01 50 000 46 771 48 034 1 027',\n",
              " '05 31 2000 11 09 05 22 2000 03 09 05 22 2000 03 09 05 22 2000 01 13 09 103143 2 713 952 6655 713 952 0972 713 712 5588',\n",
              " '8018 2 01 21 2000 12 05 01 21 2000 11 55 8018 01 21 2000 09 17 8018 0001 3',\n",
              " '4 13 05 1 25 1 2 3 _ _ _ _ _ _ _ _ _ _ _ _ _ _ _ _ _ _ _ _ _ _ _ _ _ _ _ _ _ _ _ 27 1933 21 1934 1934 1933 7',\n",
              " '3 00 aa aa aa aa aa aa',\n",
              " '17 2000 120 000 20 000 20 000',\n",
              " '',\n",
              " '3 9 000 14 000 24 000 9 12 20 00 6 000 16 000',\n",
              " '8 00 05 56 2 3 00 19 42 6 1 1 00 37 58',\n",
              " '984132 1 16 99 5 10 0 201 16 16 5 08 23 2000 12 59 984132 1 16 99 08 23 2000 12 54 08 22 2000 02 51 984132 1 16 99 08 22 2000 02 51 08 22 2000 02 07 984132 1 16 99 1 16 99 984132 20 000 10 000 5 16 16 51862 6155 10 000 10 000 10 000 1 16 99 10 000 5 000 5 16 10 000 5 5 000 5 000 16',\n",
              " '07 28 2000 09 33 6523 200 91 348374 5923 775 100 0 24 348390 5848 240 100 0 24 348396 2630 21 90 0 258 348412 3 6353',\n",
              " '',\n",
              " '4 00 04 28 2000 11 26 04 28 2000 11 27 4 00',\n",
              " '',\n",
              " '',\n",
              " '',\n",
              " '7 10 5',\n",
              " '9 6 00 9 7 00 01 10 2001 10 41 09 06 2000 03 39 9 6 00 9 7 00 9 6 00 8500 10955 10545 10545 9 6 00 04 09 06 2000 01 07 09 06 2000 09 58 9 6 00 9 7 00 30 000 8500 10955 10545 9 7 00 30 000 8500 21500',\n",
              " '10 1 99 10 1 99 05 11 2000 03 11 05 10 2000 08 42 05 10 2000 07 56 05 08 2000 04 11 7 99',\n",
              " '',\n",
              " '1459 6 00 1999 07 13 2000 01 16 1459 6 00 77352 07 12 2000 02 00 1459 6 00 1459 00 34 6 1 6 6 77352',\n",
              " '98 6719 98 9676 03 10 2000 01 54 98 6719 98 9676 151669 20000 03 10 2000 01 52 03 10 2000 10 39 98 6719 98 9676 98 6719 166989 10 11 96026573 98 9676 151669 1 1 00 1 31 00 2000 215 1 2000 3 9497',\n",
              " 'aa 2 4',\n",
              " '2000 05 19 2000 10 03 05 01 2000 11 02 2000 788 354 1 2000 3 08 2 428 130 32 20',\n",
              " '980439 10 00 12 21 2000 10 42 980439 10 00 12 19 2000 08 47 980439 10 00 422516 9 10 6 2000 432556 44 10 19 2000 12 15 2000 11 52 980439 10 00 421415 6 19 12 15 2000 11 32 980439 10 00 6 9 422516 6 9 3 9497 980439 10 00 2 10 6 10 19 12 15 2000 10 51 980439 10 00 2 6 19 980439 10 00 2 12 15 2000 10 30 980439 10 00 3 9497 12 15 2000 10 00 980439 10 00 10 6 10 19 240384 2 422516 2',\n",
              " '0071 138550 14 500 15 000 11 1 00',\n",
              " '1 2 12 14 99 02 38 45 2000 37159 1 2000',\n",
              " '3 309 37',\n",
              " '',\n",
              " '2001 157278 2001 369 69 2000 647 35 157278 2000',\n",
              " '1491 1491 13 150 200',\n",
              " '16 2',\n",
              " '',\n",
              " '3 4 5 6 5 6',\n",
              " '0980438 31',\n",
              " '20367 28 2005 11 41 41 0800 327 000 617 24 7',\n",
              " '26',\n",
              " '17 2000 617 617',\n",
              " '2 20 01 02 21 2001 04 03 02 21 2001 10 39 05 2 20 01 16 667 15 652',\n",
              " '1 000',\n",
              " '',\n",
              " '6884 137870 235670 2001',\n",
              " '50 000 5 000 90 90 23 000 123 99 5 77 757 289 64 78 11 767 351 92 74 175 767 351 65 81 93 757 45 289 84 74 280 93 281 988 2157 713 702 6815 _ 28 2001 7 42 84 9 2',\n",
              " '3 19500 5 6 12200 7300 12200 5 6 7300 22700 3 1 01',\n",
              " '7 2000 88 750 36 250 3 750',\n",
              " '4 00',\n",
              " '440813 10 95 85 00 9 110 230 60 50 1 8 15 19 431910 5 90 358 00 16 3 75 20 3 16 3 75 20 3 90 7 9 100 000 169301 9 75 440684 8 50 65 00 3 6 3 7 7 2 7 4 3 3 431989 4 50 15000 90 20 431644 15 90 89 00 98 2000 3 971 4 8834464 971 4 8834454 4176 101 1 1618 105 3 48',\n",
              " '1 2 9 11 30 5 00 3 5953',\n",
              " '5 00 06 28 2000 10 42 06 28 2000 10 28 5 00 2000',\n",
              " '24 27 98 30 17611 77388 5746 281 651 7106 281 528 8636',\n",
              " '45 234 803 380 1106 32 100 20 5 75 7 2 234 803 380 1106 775',\n",
              " '30',\n",
              " '24 713 853 4357 44 0 20 7783 7783 61 2 9229 2300 713 853 1861',\n",
              " '980070 11 4 99 12 4 99 11 4 99 2 813 11 7 99 4 248 11 8 99 2 287 11 10 99 23 11 24 99 100 11 25 99 421 11 26 99 3 611 11 27 99 989 11 28 99 7 12 1 99 1 825 12 5 99 205 30 287 127445 1 3 1999 129706 1 16 1999 133219 2 1 2 1999 1 2 3',\n",
              " '',\n",
              " '5 22 01 05 23 2001 02 23 15 5 22 01 27 500 26 406 27 119',\n",
              " '1601 1601 11 8 11 10 413538',\n",
              " '04 03 04 07 04 10 04 14 04 17 04 21 04 24 04 28 33548',\n",
              " '23 2000 123 123',\n",
              " '29 30 2000 11 02 2000 02 59 214948 12 13 15 16 11 01 2000 04 02 11 01 2000 03 29 11 01 2000 02 45 3 6353 11 01 2000 08 22 986725 2000 32 101 57 03 12 2 029 2 65 03 13 2 009 2 65 03 15 2 022 2 71 03 16 1 976 2 72',\n",
              " '3910 1960 100 77068 281 857 2485 535 281 551 6549 281 444 5140 281 444 0630 aa aa aa',\n",
              " '24 26 2001 324 324',\n",
              " '5053 100 0 14 1 400 96002441 37008',\n",
              " '73 73',\n",
              " '13 2000 10 000 60 000 30 000',\n",
              " '29 02 28 2000 11 01 _ _ 02 28 2000 10 56 05 29 5 000 5 000 29 10 000 101574',\n",
              " '1999 1999 4 4 24 2000 16 2000 9 00 3748 9 00 1 2 3 4 5 6 7 8',\n",
              " '1 3 9858 9868 96048744 22 2001 2 19 1 3 9858 9868 2 2 4000 0 10 4000 0 15',\n",
              " '5 25 2000 5 25 2000 36 800 25 000 7 800 4 000 5 31 2000 25 4 520 26 11 720 27 8 120',\n",
              " '10',\n",
              " '06 01 06 01 360 06 01 428 1201 1200 77002 832 668 1248 832 668 1123 07 13 01 09 09 06 15 01 11 07 05 01 15 2001 11 05 05 01 70120 31 2001 15 2001 9 14 05 01 15 2001 9 11 05 01 aa 05 01 96007529 96060798 96060798 5 31 01 06 14 2001 04 34 05 01 14 2001 1 44 05 01 14 2001 1 33 05 01 70120 1 40 2 40 14 2001 11 44 05 01 06 14 01 11 44 06 14 01 10 58 05 01 713 853 6905 6827 06 13 2001 03 44 05 01 0491 9961 05 01 428 980428 5 11 01 143 5 31 01 286 429 05 01 04 01 70120 05 01 05 01 70120 05 01 6827 9961 0491 6827 9961 0491',\n",
              " '',\n",
              " '03 05 2001 10 26 03 05 2001 10 27 02 27 2001 04 21 5 9 10 3268 35999 02 27 2001 04 17 02 27 2001 11 02 35999 02 27 2001 10 59 02 22 2001 02 59 27 1 2 37 35999',\n",
              " '3 2004 40 000 28 04 1376 20 431 12 18 21 32 41 47 31 2 500 000 00 5 000 000 00 2 2004 25 5 27 828675346 7 3 7 21 11 27 823622669',\n",
              " '18 2001 7 28 832 676 5576',\n",
              " '1 1 04 06 2000 12 56 04 06 2000 12 40 04 04 2000 10 42 1 1 1999 2 156337 2 156342 3 7548',\n",
              " '300 000 475 000 550 000 400 000 350 000 769 10 3',\n",
              " '0 2 aa 5 18313 63146',\n",
              " '1000 035 08 07 2000 08 46 1000 08 07 2000 08 44 08 03 2000 04 48 1000 08 03 2000 04 47 08 02 2000 03 48 1000 2000 92881 31 2000',\n",
              " '32 713 345 7754 713 412 7754',\n",
              " '',\n",
              " '1 2 3 713 853 4357 61 2 9229 2300 44 0 20 7783 7783',\n",
              " '9873 15 34 980415',\n",
              " '22 2001 322 322',\n",
              " '6 4 99 6 9 99 98 0439 11 01 2000 06 34 6 4 99 6 9 99 98 0439 1999 1999 1999 2 11 01 2000 02 50 6 4 99 6 9 99 98 0439 11 01 2000 02 54 11 01 2000 11 25 6 4 99 6 9 99 98 0439 98 0439 3 9497 11 01 2000 11 23 11 01 2000 10 16 6 4 99 6 9 99 98 0439 11 01 2000 10 03 6 4 99 6 9 99 98 0439 6 3 99 6 8 99 202 6 4 548 6 9 40 3 9497',\n",
              " '3 3',\n",
              " '',\n",
              " '7 23 000',\n",
              " '01 2000 601 601',\n",
              " '6879 00 6879 00 1 16 176 133010',\n",
              " '',\n",
              " '12 2000 40 000 110 000',\n",
              " '01 01 29 2001 04 42 01 01 29 2001 04 17 01 157572 1372 1373 10 000 1373 01 29 2001 04 07 01 29 2001 03 59 01 65 000 1373 2 01 378904',\n",
              " '3 2005 1 1 3',\n",
              " '2001 2001',\n",
              " '11 2000 111 111',\n",
              " '3 5 15 3 3708 713 796 4149 713 562 2458 5 15 5 19 34202 31837',\n",
              " '',\n",
              " '00 2 5 5 10 000 2 95 256686 36574',\n",
              " '6 15 00 06 19 2000 03 30 06 19 2000 03 10 42 6 15 00 6 15 00 6 16 00 6 17 00 16 305 61500 330 61500 330 61500 330 61500 333 61500 337 61500 23 61500 41 61500 28 61500 560 61500 580 61500 28 61500',\n",
              " '5 01 2001 384258 2 069 556 32 2 026 347 17',\n",
              " '70',\n",
              " '11958 2000 12 07 2000 10 12 12 07 2000 10 13 11958 2000 21 8945 55 645 36 000',\n",
              " '98 1601 16 5 31 2000 5 31 2000 3 9497 06 05 2000 11 28 06 02 2000 11 00 98 1601 98 1601 06 02 2000 10 16 06 02 2000 09 32 98 1601 254839 5 20 5 21 20 578 21 109 3 9497',\n",
              " '1',\n",
              " '8 1 2000 32 800 8 1 2000 7 800 25 000 2 880',\n",
              " '',\n",
              " '01 11 2000 11 05 01 11 2000 09 02 01 11 2000 09 01 01 06 2000 03 58 01 06 2000 03 57 01 06 2000 08 32 1 15 1 14 1 13 01 06 2000 08 24 01 05 2000 12 00 2000 1 15 2000 15 12 01 99 04 58 12 01 99 03 48 12 01 99 01 25 37 713 693 2845 713 693 2597 12 01 99 01 04 210 1 12 01 99 12 58 11 30 99 01 27 11 30 99 01 26 11 30 99 10 36 11 _',\n",
              " '2 11 2000 2 9 2 10 2 11 32 000 25 000 7 000 500 2 10 2000 7 000 05 500 05',\n",
              " '14 2001 12 33 _ 998 7 11 30 _ 96 _ 85 aa 68 _ 2 761 2 _ 92 2 7899 2 330 419 98 _ 768 68 _ 5626 2 2047 _ 75442 75442 587 _ 401 95 4445 93 95 997 _ 2345 95 495 _ 93 444 94 3 _ 984 _ _ 62 95 53 _ 93775 41 _ _ 2 _ 98 82 _ 102372 2423 2 _ _ _ 2 _ _ 21 99 _ _ 85 _ 0 _ _ _ 1 50 3 5 30 _ 2575 8765 2 _ 103745 342 97 691 5320 74464 2612 2402 96 _ 219 4 97 aa aa 94 _ 2000 394 84 4001 88 62 _ _ _ _ 326 _ _ _ 96 4 66 97 94 97 83 _ 3 999 _ 3 _ 4 5 2 68 5 _ _ 2 00 8 _ 3 _ _ 25 _ _ 3 _ _ _ _ _ _ 92891 987 70 86 2 _ 22 20 _ 3442 _ 2 _ 96 9 _ 0 _ 397 2 41 _ 78 93 93 50 580 58 963 _ _ _ 22 3 2 1 1 2',\n",
              " '99 415 441 4156',\n",
              " '102 6820014 8227326 1 19 99 1 19 99 19 99 0 00 19 99 2747 77388 3 7 41 90316789627',\n",
              " '06 29 2000 08 59 06 29 2000 08 54 06 28 2000 07 59 06 28 2000 07 57 5 10 06 28 2000 12 45 06 28 2000 11 19 3 7',\n",
              " '31 1023 1460 31 7 31 33396',\n",
              " '9',\n",
              " '3 6353',\n",
              " '31 28 10 17 2000 02 39 10 17 2000 02 30 25 10 17 2000 08 17',\n",
              " '301 2 1618 105',\n",
              " '04 17 2000 01 48 04 17 2000 11 12 _ _ _ _ 21 2000 21 24 24 35242 33102',\n",
              " '01 19 2000 04 14 01 19 2000 03 01 91 297 1999 012 41991 02 004 1999 1999 91 297 1999 91 297 91 297',\n",
              " '12 2000 012 012',\n",
              " '25 25 25 10 000 25 1 30 10 000 500 100 48 15 2004 770 8 2 5 25',\n",
              " '13 2000 10 938',\n",
              " '',\n",
              " '06 05 2000 08 43 06 02 2000 05 28 6 19 1 05 31 2000 07 37 6 19 1 05 31 2000 06 07',\n",
              " '30 2001 18 750',\n",
              " '6',\n",
              " '8859 7 5 3 5 _ _ 2 _ 28 29 2 _ 28 29',\n",
              " '20 2 07 900 6 1 18 1 24 2 10 1 90 6 00 1 2 3 5 7 5 10 10 5 74 1 300 1 3 500 1995',\n",
              " '23 12',\n",
              " '04 01 04 01 413462 04 01 03 01 05 01 04 01 413462 10 000 _ 1 11 000 _ 2 1201 1524 77002 713 571 3274 713 646 8875',\n",
              " '1835 1910 1917 1963',\n",
              " '12 2004 3 25 2000',\n",
              " '600 2000 4 0 713 853 6686',\n",
              " '30 000 10 000 5',\n",
              " '8 8',\n",
              " '',\n",
              " 'aa',\n",
              " '03 21 2001 01 21 03 21 2001 01 20 03 20 2001 01 38 5 000 21 5 000 03 20 2001 01 39 03 20 2001 01 18 2001 5 000 21',\n",
              " '700 2700 77002 713 830 8659 713 830 8722 1',\n",
              " '09 00 2000 34 000 2000 9 000',\n",
              " '1 33396',\n",
              " '06 22 2000 01 09 06 22 2000 12 35 06 22 2000 10 57',\n",
              " '1156 3 9497',\n",
              " '_ 9008',\n",
              " '4 5 00 4 6 00 2 00 4 5 00 0 0 4 6 00 0 0',\n",
              " '65 65 8 0 2 43 aa 65 7 56 7 65',\n",
              " '12 14 2000 08 50 12 14 2000 09 28 421415 6 19 9 44 1 2000 1999 2000 12 12 2000 10 01 98 0439 10 2000 10 2000 3 9497 1 39647 2 40040 3 39643 4 39809 5 39702 6 18 7 8 9 10 11 29162 12 14689 13 40400 14 30599 15 30523 16 30394 17 30369 18 40547 19 88 20 10126 21 20167 22 20208 23 20502 24 40408 25 45721 26 30978 27 43142 28 9667 29 9536 30 10290 31 12 12 2000 11 37 3 4 11 12 25 27 6 19 1 39647 2 40040 3 39643 4 39809 5 39702 6 18 7 8 9 10 11 29162 12 14689 13 40400 14 30599 15 30523 16 30394 17 30369 18 40547 19 88 20 10126 21 20167 22 20208 23 20502 24 40408 25 45721 26 30978 27 43142 28 9667 29 9536 30 10290 31 1 39647 2 40040 3 29732 4 24881 5 39702 6 9 7 8 9 10 11 19441 12 9793 13 40400 14 30599 15 30523 16 30394 17 30369 18 40547 19 44 20 10126 21 20167 22 20208 23 20502 24 40408 25 25401 26 30978 27 30099 28 9667 29 9536 30 10290 31',\n",
              " '60 80',\n",
              " '986315 7 31 99 8 1 99 06 15 2000 11 18 986315 0986315 6 13 2000 06 15 2000 10 47 06 14 2000 05 55 986315 1 45 6 13 00 986315 35 2 6 13 8 6 14 500 300',\n",
              " '11 01 7 11 2001 2 10 11 01 11 2001 9 56 11 01 384258 3 096 547 98',\n",
              " 'aa',\n",
              " '9 2000 109 109',\n",
              " '1386 1386 1 4 01 150325 3',\n",
              " '755 379 536 51 258 65 2 47 _ 6 5 7 2 5 640 78',\n",
              " '9794 8 11 5 8 012 5 9 0 5 10 087 5 11 6 970',\n",
              " '2 2000 2000 2 29 3 1 00 3 1 00',\n",
              " '10 12 00 7900 10 12 00 7900',\n",
              " '26',\n",
              " '80',\n",
              " ...]"
            ]
          },
          "metadata": {},
          "execution_count": 24
        }
      ],
      "source": [
        "corpus"
      ]
    },
    {
      "cell_type": "code",
      "execution_count": 25,
      "metadata": {
        "id": "7ykiAVm8mg29"
      },
      "outputs": [],
      "source": [
        "from sklearn.feature_extraction.text import CountVectorizer\n",
        "cv=CountVectorizer(max_features=350000)\n",
        "X=cv.fit_transform(corpus).toarray()"
      ]
    },
    {
      "cell_type": "code",
      "execution_count": 26,
      "metadata": {
        "id": "VOB9UHJXum8i"
      },
      "outputs": [],
      "source": [
        "import pickle\n",
        "pickle.dump(cv,open('cv1.pkl','wb'))"
      ]
    },
    {
      "cell_type": "code",
      "execution_count": 27,
      "metadata": {
        "colab": {
          "base_uri": "https://localhost:8080/",
          "height": 74
        },
        "id": "rY5c2ilUdVxI",
        "outputId": "5cd6a59d-0920-4d41-dfb2-d1f8f61f2465"
      },
      "outputs": [
        {
          "output_type": "execute_result",
          "data": {
            "text/plain": [
              "GaussianNB()"
            ],
            "text/html": [
              "<style>#sk-container-id-1 {color: black;background-color: white;}#sk-container-id-1 pre{padding: 0;}#sk-container-id-1 div.sk-toggleable {background-color: white;}#sk-container-id-1 label.sk-toggleable__label {cursor: pointer;display: block;width: 100%;margin-bottom: 0;padding: 0.3em;box-sizing: border-box;text-align: center;}#sk-container-id-1 label.sk-toggleable__label-arrow:before {content: \"▸\";float: left;margin-right: 0.25em;color: #696969;}#sk-container-id-1 label.sk-toggleable__label-arrow:hover:before {color: black;}#sk-container-id-1 div.sk-estimator:hover label.sk-toggleable__label-arrow:before {color: black;}#sk-container-id-1 div.sk-toggleable__content {max-height: 0;max-width: 0;overflow: hidden;text-align: left;background-color: #f0f8ff;}#sk-container-id-1 div.sk-toggleable__content pre {margin: 0.2em;color: black;border-radius: 0.25em;background-color: #f0f8ff;}#sk-container-id-1 input.sk-toggleable__control:checked~div.sk-toggleable__content {max-height: 200px;max-width: 100%;overflow: auto;}#sk-container-id-1 input.sk-toggleable__control:checked~label.sk-toggleable__label-arrow:before {content: \"▾\";}#sk-container-id-1 div.sk-estimator input.sk-toggleable__control:checked~label.sk-toggleable__label {background-color: #d4ebff;}#sk-container-id-1 div.sk-label input.sk-toggleable__control:checked~label.sk-toggleable__label {background-color: #d4ebff;}#sk-container-id-1 input.sk-hidden--visually {border: 0;clip: rect(1px 1px 1px 1px);clip: rect(1px, 1px, 1px, 1px);height: 1px;margin: -1px;overflow: hidden;padding: 0;position: absolute;width: 1px;}#sk-container-id-1 div.sk-estimator {font-family: monospace;background-color: #f0f8ff;border: 1px dotted black;border-radius: 0.25em;box-sizing: border-box;margin-bottom: 0.5em;}#sk-container-id-1 div.sk-estimator:hover {background-color: #d4ebff;}#sk-container-id-1 div.sk-parallel-item::after {content: \"\";width: 100%;border-bottom: 1px solid gray;flex-grow: 1;}#sk-container-id-1 div.sk-label:hover label.sk-toggleable__label {background-color: #d4ebff;}#sk-container-id-1 div.sk-serial::before {content: \"\";position: absolute;border-left: 1px solid gray;box-sizing: border-box;top: 0;bottom: 0;left: 50%;z-index: 0;}#sk-container-id-1 div.sk-serial {display: flex;flex-direction: column;align-items: center;background-color: white;padding-right: 0.2em;padding-left: 0.2em;position: relative;}#sk-container-id-1 div.sk-item {position: relative;z-index: 1;}#sk-container-id-1 div.sk-parallel {display: flex;align-items: stretch;justify-content: center;background-color: white;position: relative;}#sk-container-id-1 div.sk-item::before, #sk-container-id-1 div.sk-parallel-item::before {content: \"\";position: absolute;border-left: 1px solid gray;box-sizing: border-box;top: 0;bottom: 0;left: 50%;z-index: -1;}#sk-container-id-1 div.sk-parallel-item {display: flex;flex-direction: column;z-index: 1;position: relative;background-color: white;}#sk-container-id-1 div.sk-parallel-item:first-child::after {align-self: flex-end;width: 50%;}#sk-container-id-1 div.sk-parallel-item:last-child::after {align-self: flex-start;width: 50%;}#sk-container-id-1 div.sk-parallel-item:only-child::after {width: 0;}#sk-container-id-1 div.sk-dashed-wrapped {border: 1px dashed gray;margin: 0 0.4em 0.5em 0.4em;box-sizing: border-box;padding-bottom: 0.4em;background-color: white;}#sk-container-id-1 div.sk-label label {font-family: monospace;font-weight: bold;display: inline-block;line-height: 1.2em;}#sk-container-id-1 div.sk-label-container {text-align: center;}#sk-container-id-1 div.sk-container {/* jupyter's `normalize.less` sets `[hidden] { display: none; }` but bootstrap.min.css set `[hidden] { display: none !important; }` so we also need the `!important` here to be able to override the default hidden behavior on the sphinx rendered scikit-learn.org. See: https://github.com/scikit-learn/scikit-learn/issues/21755 */display: inline-block !important;position: relative;}#sk-container-id-1 div.sk-text-repr-fallback {display: none;}</style><div id=\"sk-container-id-1\" class=\"sk-top-container\"><div class=\"sk-text-repr-fallback\"><pre>GaussianNB()</pre><b>In a Jupyter environment, please rerun this cell to show the HTML representation or trust the notebook. <br />On GitHub, the HTML representation is unable to render, please try loading this page with nbviewer.org.</b></div><div class=\"sk-container\" hidden><div class=\"sk-item\"><div class=\"sk-estimator sk-toggleable\"><input class=\"sk-toggleable__control sk-hidden--visually\" id=\"sk-estimator-id-1\" type=\"checkbox\" checked><label for=\"sk-estimator-id-1\" class=\"sk-toggleable__label sk-toggleable__label-arrow\">GaussianNB</label><div class=\"sk-toggleable__content\"><pre>GaussianNB()</pre></div></div></div></div></div>"
            ]
          },
          "metadata": {},
          "execution_count": 27
        }
      ],
      "source": [
        "from sklearn.naive_bayes import GaussianNB\n",
        "classifier=GaussianNB()\n",
        "classifier.fit(X_train,y_train)"
      ]
    },
    {
      "cell_type": "code",
      "execution_count": 28,
      "metadata": {
        "id": "-ap1pYPJdro-"
      },
      "outputs": [],
      "source": [
        "y_pred=classifier.predict(X_test)"
      ]
    },
    {
      "cell_type": "code",
      "execution_count": 29,
      "metadata": {
        "id": "-XxKJTHYdyam"
      },
      "outputs": [],
      "source": [
        "from sklearn.metrics import confusion_matrix,accuracy_score\n",
        "cm1=confusion_matrix(y_test,y_pred)"
      ]
    },
    {
      "cell_type": "code",
      "execution_count": 30,
      "metadata": {
        "colab": {
          "base_uri": "https://localhost:8080/"
        },
        "id": "H_i6Cep4eLuQ",
        "outputId": "ef38d5a1-8c03-4ecd-b881-f0a1a63b050e"
      },
      "outputs": [
        {
          "output_type": "stream",
          "name": "stdout",
          "text": [
            "Accuracy: 0.7132731958762887\n"
          ]
        }
      ],
      "source": [
        "print(\"Accuracy:\", accuracy_score(y_test,y_pred*100))"
      ]
    },
    {
      "cell_type": "markdown",
      "metadata": {
        "id": "xg2xtneKpulu"
      },
      "source": [
        "HEAT MAP TO DETECT SPAM"
      ]
    },
    {
      "cell_type": "code",
      "execution_count": 31,
      "metadata": {
        "colab": {
          "base_uri": "https://localhost:8080/",
          "height": 462
        },
        "id": "VOQ31OEjevD3",
        "outputId": "6591f1a1-3b64-436b-f7dd-d32557519b98"
      },
      "outputs": [
        {
          "output_type": "execute_result",
          "data": {
            "text/plain": [
              "<Axes: >"
            ]
          },
          "metadata": {},
          "execution_count": 31
        },
        {
          "output_type": "display_data",
          "data": {
            "text/plain": [
              "<Figure size 600x500 with 2 Axes>"
            ],
            "image/png": "[encoded data removed]"
          },
          "metadata": {}
        }
      ],
      "source": [
        "import seaborn as sns\n",
        "plt.figure(figsize=(6,5))\n",
        "sns.heatmap(cm1,annot= True, fmt='n',xticklabels=['Not Spam','Spam'],yticklabels=['Not Spam','Spam'])"
      ]
    },
    {
      "cell_type": "code",
      "execution_count": 32,
      "metadata": {
        "colab": {
          "base_uri": "https://localhost:8080/",
          "height": 74
        },
        "id": "RDCzeOVry0zj",
        "outputId": "02df16bf-b628-4bdd-bf3e-d017a48517b3"
      },
      "outputs": [
        {
          "output_type": "execute_result",
          "data": {
            "text/plain": [
              "RandomForestClassifier()"
            ],
            "text/html": [
              "<style>#sk-container-id-2 {color: black;background-color: white;}#sk-container-id-2 pre{padding: 0;}#sk-container-id-2 div.sk-toggleable {background-color: white;}#sk-container-id-2 label.sk-toggleable__label {cursor: pointer;display: block;width: 100%;margin-bottom: 0;padding: 0.3em;box-sizing: border-box;text-align: center;}#sk-container-id-2 label.sk-toggleable__label-arrow:before {content: \"▸\";float: left;margin-right: 0.25em;color: #696969;}#sk-container-id-2 label.sk-toggleable__label-arrow:hover:before {color: black;}#sk-container-id-2 div.sk-estimator:hover label.sk-toggleable__label-arrow:before {color: black;}#sk-container-id-2 div.sk-toggleable__content {max-height: 0;max-width: 0;overflow: hidden;text-align: left;background-color: #f0f8ff;}#sk-container-id-2 div.sk-toggleable__content pre {margin: 0.2em;color: black;border-radius: 0.25em;background-color: #f0f8ff;}#sk-container-id-2 input.sk-toggleable__control:checked~div.sk-toggleable__content {max-height: 200px;max-width: 100%;overflow: auto;}#sk-container-id-2 input.sk-toggleable__control:checked~label.sk-toggleable__label-arrow:before {content: \"▾\";}#sk-container-id-2 div.sk-estimator input.sk-toggleable__control:checked~label.sk-toggleable__label {background-color: #d4ebff;}#sk-container-id-2 div.sk-label input.sk-toggleable__control:checked~label.sk-toggleable__label {background-color: #d4ebff;}#sk-container-id-2 input.sk-hidden--visually {border: 0;clip: rect(1px 1px 1px 1px);clip: rect(1px, 1px, 1px, 1px);height: 1px;margin: -1px;overflow: hidden;padding: 0;position: absolute;width: 1px;}#sk-container-id-2 div.sk-estimator {font-family: monospace;background-color: #f0f8ff;border: 1px dotted black;border-radius: 0.25em;box-sizing: border-box;margin-bottom: 0.5em;}#sk-container-id-2 div.sk-estimator:hover {background-color: #d4ebff;}#sk-container-id-2 div.sk-parallel-item::after {content: \"\";width: 100%;border-bottom: 1px solid gray;flex-grow: 1;}#sk-container-id-2 div.sk-label:hover label.sk-toggleable__label {background-color: #d4ebff;}#sk-container-id-2 div.sk-serial::before {content: \"\";position: absolute;border-left: 1px solid gray;box-sizing: border-box;top: 0;bottom: 0;left: 50%;z-index: 0;}#sk-container-id-2 div.sk-serial {display: flex;flex-direction: column;align-items: center;background-color: white;padding-right: 0.2em;padding-left: 0.2em;position: relative;}#sk-container-id-2 div.sk-item {position: relative;z-index: 1;}#sk-container-id-2 div.sk-parallel {display: flex;align-items: stretch;justify-content: center;background-color: white;position: relative;}#sk-container-id-2 div.sk-item::before, #sk-container-id-2 div.sk-parallel-item::before {content: \"\";position: absolute;border-left: 1px solid gray;box-sizing: border-box;top: 0;bottom: 0;left: 50%;z-index: -1;}#sk-container-id-2 div.sk-parallel-item {display: flex;flex-direction: column;z-index: 1;position: relative;background-color: white;}#sk-container-id-2 div.sk-parallel-item:first-child::after {align-self: flex-end;width: 50%;}#sk-container-id-2 div.sk-parallel-item:last-child::after {align-self: flex-start;width: 50%;}#sk-container-id-2 div.sk-parallel-item:only-child::after {width: 0;}#sk-container-id-2 div.sk-dashed-wrapped {border: 1px dashed gray;margin: 0 0.4em 0.5em 0.4em;box-sizing: border-box;padding-bottom: 0.4em;background-color: white;}#sk-container-id-2 div.sk-label label {font-family: monospace;font-weight: bold;display: inline-block;line-height: 1.2em;}#sk-container-id-2 div.sk-label-container {text-align: center;}#sk-container-id-2 div.sk-container {/* jupyter's `normalize.less` sets `[hidden] { display: none; }` but bootstrap.min.css set `[hidden] { display: none !important; }` so we also need the `!important` here to be able to override the default hidden behavior on the sphinx rendered scikit-learn.org. See: https://github.com/scikit-learn/scikit-learn/issues/21755 */display: inline-block !important;position: relative;}#sk-container-id-2 div.sk-text-repr-fallback {display: none;}</style><div id=\"sk-container-id-2\" class=\"sk-top-container\"><div class=\"sk-text-repr-fallback\"><pre>RandomForestClassifier()</pre><b>In a Jupyter environment, please rerun this cell to show the HTML representation or trust the notebook. <br />On GitHub, the HTML representation is unable to render, please try loading this page with nbviewer.org.</b></div><div class=\"sk-container\" hidden><div class=\"sk-item\"><div class=\"sk-estimator sk-toggleable\"><input class=\"sk-toggleable__control sk-hidden--visually\" id=\"sk-estimator-id-2\" type=\"checkbox\" checked><label for=\"sk-estimator-id-2\" class=\"sk-toggleable__label sk-toggleable__label-arrow\">RandomForestClassifier</label><div class=\"sk-toggleable__content\"><pre>RandomForestClassifier()</pre></div></div></div></div></div>"
            ]
          },
          "metadata": {},
          "execution_count": 32
        }
      ],
      "source": [
        "from sklearn.ensemble import RandomForestClassifier\n",
        "cl=RandomForestClassifier()\n",
        "cl.fit(X_train,y_train)"
      ]
    },
    {
      "cell_type": "code",
      "execution_count": 33,
      "metadata": {
        "id": "ZI5DdjTuhm7g"
      },
      "outputs": [],
      "source": [
        "y_pred=cl.predict(X_test)"
      ]
    },
    {
      "cell_type": "code",
      "execution_count": 34,
      "metadata": {
        "colab": {
          "base_uri": "https://localhost:8080/"
        },
        "id": "clWi8c32ib_G",
        "outputId": "cf14cf2d-f038-473c-c942-ec8ddabe1a57"
      },
      "outputs": [
        {
          "output_type": "stream",
          "name": "stdout",
          "text": [
            "Accuracy: 97.22938144329896\n"
          ]
        }
      ],
      "source": [
        "from sklearn.metrics import confusion_matrix,accuracy_score\n",
        "cm2=confusion_matrix(y_test,y_pred)\n",
        "print('Accuracy:',accuracy_score(y_test,y_pred)*100)"
      ]
    },
    {
      "cell_type": "code",
      "execution_count": 35,
      "metadata": {
        "colab": {
          "base_uri": "https://localhost:8080/"
        },
        "id": "X-I_al7wRdd2",
        "outputId": "12d7c667-2906-46b4-b725-4438cc5c48f5"
      },
      "outputs": [
        {
          "output_type": "stream",
          "name": "stdout",
          "text": [
            "    unnamed:0  SP_LABEL                                            SP_TEXT  \\\n",
            "0         605         0  Subject: enron methanol ; meter # : 988291\\r\\n...   \n",
            "1        2349         0  Subject: hpl nom for january 9 , 2001\\r\\n( see...   \n",
            "2        3624         0  Subject: neon retreat\\r\\nho ho ho , we ' re ar...   \n",
            "3        4685         1  Subject: photoshop , windows , office . cheap ...   \n",
            "4        2030         0  Subject: re : indian springs\\r\\nthis deal is t...   \n",
            "5        2949         0  Subject: ehronline web address change\\r\\nthis ...   \n",
            "6        2793         0  Subject: spring savings certificate - take 30 ...   \n",
            "7        4185         1  Subject: looking for medication ? we ` re the ...   \n",
            "8        2641         0  Subject: noms / actual flow for 2 / 26\\r\\nwe a...   \n",
            "9        1870         0  Subject: nominations for oct . 21 - 23 , 2000\\...   \n",
            "10       4922         1  Subject: vocable % rnd - word asceticism\\r\\nvc...   \n",
            "11       3799         1  Subject: report 01405 !\\r\\nwffur attion brom e...   \n",
            "12       1488         0  Subject: enron / hpl actuals for august 28 , 2...   \n",
            "13       3948         1  Subject: vic . odin n ^ ow\\r\\nberne hotbox car...   \n",
            "14       3418         0  Subject: tenaska iv july\\r\\ndarren :\\r\\nplease...   \n",
            "15       4791         1  Subject: underpriced issue with high return on...   \n",
            "16       2643         0  Subject: re : first delivery - wheeler operati...   \n",
            "17       3137         0  Subject: swift - may 2001 vols\\r\\nsean ,\\r\\nfy...   \n",
            "18       1629         0  Subject: meter variances - ua 4 clean - up\\r\\n...   \n",
            "19       1858         0  Subject: additional recruiting\\r\\ni ' m happy ...   \n",
            "\n",
            "    label_num  \n",
            "0           0  \n",
            "1           0  \n",
            "2           0  \n",
            "3           1  \n",
            "4           0  \n",
            "5           0  \n",
            "6           0  \n",
            "7           1  \n",
            "8           0  \n",
            "9           0  \n",
            "10          1  \n",
            "11          1  \n",
            "12          0  \n",
            "13          1  \n",
            "14          0  \n",
            "15          1  \n",
            "16          0  \n",
            "17          0  \n",
            "18          0  \n",
            "19          0  \n"
          ]
        }
      ],
      "source": [
        "print(df.head(20))"
      ]
    },
    {
      "cell_type": "markdown",
      "metadata": {
        "id": "T1rbXbjvqvrX"
      },
      "source": [
        "Exploratory Data Analysis"
      ]
    },
    {
      "cell_type": "markdown",
      "metadata": {
        "id": "lNz936okqyJ0"
      },
      "source": [
        "Descriptive statistical"
      ]
    },
    {
      "cell_type": "code",
      "execution_count": 36,
      "metadata": {
        "colab": {
          "base_uri": "https://localhost:8080/",
          "height": 297
        },
        "id": "nuV_9JBli9JA",
        "outputId": "d8462afb-72a7-49cf-a8e6-f78b86bdb63f"
      },
      "outputs": [
        {
          "output_type": "execute_result",
          "data": {
            "text/plain": [
              "         unnamed:0     SP_LABEL    label_num\n",
              "count  5171.000000  5171.000000  5171.000000\n",
              "mean   2585.000000     0.289886     0.289886\n",
              "std    1492.883452     0.453753     0.453753\n",
              "min       0.000000     0.000000     0.000000\n",
              "25%    1292.500000     0.000000     0.000000\n",
              "50%    2585.000000     0.000000     0.000000\n",
              "75%    3877.500000     1.000000     1.000000\n",
              "max    5170.000000     1.000000     1.000000"
            ],
            "text/html": [
              "\n",
              "  <div id=\"df-abb3afcb-e7e2-4752-b714-ed82de94ffe4\">\n",
              "    <div class=\"colab-df-container\">\n",
              "      <div>\n",
              "<style scoped>\n",
              "    .dataframe tbody tr th:only-of-type {\n",
              "        vertical-align: middle;\n",
              "    }\n",
              "\n",
              "    .dataframe tbody tr th {\n",
              "        vertical-align: top;\n",
              "    }\n",
              "\n",
              "    .dataframe thead th {\n",
              "        text-align: right;\n",
              "    }\n",
              "</style>\n",
              "<table border=\"1\" class=\"dataframe\">\n",
              "  <thead>\n",
              "    <tr style=\"text-align: right;\">\n",
              "      <th></th>\n",
              "      <th>unnamed:0</th>\n",
              "      <th>SP_LABEL</th>\n",
              "      <th>label_num</th>\n",
              "    </tr>\n",
              "  </thead>\n",
              "  <tbody>\n",
              "    <tr>\n",
              "      <th>count</th>\n",
              "      <td>5171.000000</td>\n",
              "      <td>5171.000000</td>\n",
              "      <td>5171.000000</td>\n",
              "    </tr>\n",
              "    <tr>\n",
              "      <th>mean</th>\n",
              "      <td>2585.000000</td>\n",
              "      <td>0.289886</td>\n",
              "      <td>0.289886</td>\n",
              "    </tr>\n",
              "    <tr>\n",
              "      <th>std</th>\n",
              "      <td>1492.883452</td>\n",
              "      <td>0.453753</td>\n",
              "      <td>0.453753</td>\n",
              "    </tr>\n",
              "    <tr>\n",
              "      <th>min</th>\n",
              "      <td>0.000000</td>\n",
              "      <td>0.000000</td>\n",
              "      <td>0.000000</td>\n",
              "    </tr>\n",
              "    <tr>\n",
              "      <th>25%</th>\n",
              "      <td>1292.500000</td>\n",
              "      <td>0.000000</td>\n",
              "      <td>0.000000</td>\n",
              "    </tr>\n",
              "    <tr>\n",
              "      <th>50%</th>\n",
              "      <td>2585.000000</td>\n",
              "      <td>0.000000</td>\n",
              "      <td>0.000000</td>\n",
              "    </tr>\n",
              "    <tr>\n",
              "      <th>75%</th>\n",
              "      <td>3877.500000</td>\n",
              "      <td>1.000000</td>\n",
              "      <td>1.000000</td>\n",
              "    </tr>\n",
              "    <tr>\n",
              "      <th>max</th>\n",
              "      <td>5170.000000</td>\n",
              "      <td>1.000000</td>\n",
              "      <td>1.000000</td>\n",
              "    </tr>\n",
              "  </tbody>\n",
              "</table>\n",
              "</div>\n",
              "      <button class=\"colab-df-convert\" onclick=\"convertToInteractive('df-abb3afcb-e7e2-4752-b714-ed82de94ffe4')\"\n",
              "              title=\"Convert this dataframe to an interactive table.\"\n",
              "              style=\"display:none;\">\n",
              "        \n",
              "  <svg xmlns=\"http://www.w3.org/2000/svg\" height=\"24px\"viewBox=\"0 0 24 24\"\n",
              "       width=\"24px\">\n",
              "    <path d=\"M0 0h24v24H0V0z\" fill=\"none\"/>\n",
              "    <path d=\"M18.56 5.44l.94 2.06.94-2.06 2.06-.94-2.06-.94-.94-2.06-.94 2.06-2.06.94zm-11 1L8.5 8.5l.94-2.06 2.06-.94-2.06-.94L8.5 2.5l-.94 2.06-2.06.94zm10 10l.94 2.06.94-2.06 2.06-.94-2.06-.94-.94-2.06-.94 2.06-2.06.94z\"/><path d=\"M17.41 7.96l-1.37-1.37c-.4-.4-.92-.59-1.43-.59-.52 0-1.04.2-1.43.59L10.3 9.45l-7.72 7.72c-.78.78-.78 2.05 0 2.83L4 21.41c.39.39.9.59 1.41.59.51 0 1.02-.2 1.41-.59l7.78-7.78 2.81-2.81c.8-.78.8-2.07 0-2.86zM5.41 20L4 18.59l7.72-7.72 1.47 1.35L5.41 20z\"/>\n",
              "  </svg>\n",
              "      </button>\n",
              "      \n",
              "  <style>\n",
              "    .colab-df-container {\n",
              "      display:flex;\n",
              "      flex-wrap:wrap;\n",
              "      gap: 12px;\n",
              "    }\n",
              "\n",
              "    .colab-df-convert {\n",
              "      background-color: #E8F0FE;\n",
              "      border: none;\n",
              "      border-radius: 50%;\n",
              "      cursor: pointer;\n",
              "      display: none;\n",
              "      fill: #1967D2;\n",
              "      height: 32px;\n",
              "      padding: 0 0 0 0;\n",
              "      width: 32px;\n",
              "    }\n",
              "\n",
              "    .colab-df-convert:hover {\n",
              "      background-color: #E2EBFA;\n",
              "      box-shadow: 0px 1px 2px rgba(60, 64, 67, 0.3), 0px 1px 3px 1px rgba(60, 64, 67, 0.15);\n",
              "      fill: #174EA6;\n",
              "    }\n",
              "\n",
              "    [theme=dark] .colab-df-convert {\n",
              "      background-color: #3B4455;\n",
              "      fill: #D2E3FC;\n",
              "    }\n",
              "\n",
              "    [theme=dark] .colab-df-convert:hover {\n",
              "      background-color: #434B5C;\n",
              "      box-shadow: 0px 1px 3px 1px rgba(0, 0, 0, 0.15);\n",
              "      filter: drop-shadow(0px 1px 2px rgba(0, 0, 0, 0.3));\n",
              "      fill: #FFFFFF;\n",
              "    }\n",
              "  </style>\n",
              "\n",
              "      <script>\n",
              "        const buttonEl =\n",
              "          document.querySelector('#df-abb3afcb-e7e2-4752-b714-ed82de94ffe4 button.colab-df-convert');\n",
              "        buttonEl.style.display =\n",
              "          google.colab.kernel.accessAllowed ? 'block' : 'none';\n",
              "\n",
              "        async function convertToInteractive(key) {\n",
              "          const element = document.querySelector('#df-abb3afcb-e7e2-4752-b714-ed82de94ffe4');\n",
              "          const dataTable =\n",
              "            await google.colab.kernel.invokeFunction('convertToInteractive',\n",
              "                                                     [key], {});\n",
              "          if (!dataTable) return;\n",
              "\n",
              "          const docLinkHtml = 'Like what you see? Visit the ' +\n",
              "            '<a target=\"_blank\" href=https://colab.research.google.com/notebooks/data_table.ipynb>data table notebook</a>'\n",
              "            + ' to learn more about interactive tables.';\n",
              "          element.innerHTML = '';\n",
              "          dataTable['output_type'] = 'display_data';\n",
              "          await google.colab.output.renderOutput(dataTable, element);\n",
              "          const docLink = document.createElement('div');\n",
              "          docLink.innerHTML = docLinkHtml;\n",
              "          element.appendChild(docLink);\n",
              "        }\n",
              "      </script>\n",
              "    </div>\n",
              "  </div>\n",
              "  "
            ]
          },
          "metadata": {},
          "execution_count": 36
        }
      ],
      "source": [
        "df.describe()"
      ]
    },
    {
      "cell_type": "code",
      "execution_count": 37,
      "metadata": {
        "colab": {
          "base_uri": "https://localhost:8080/"
        },
        "id": "tgA2t9kSjCLI",
        "outputId": "6df2a75b-d271-4c1e-a0e8-4b08afd7778b"
      },
      "outputs": [
        {
          "output_type": "execute_result",
          "data": {
            "text/plain": [
              "(5171, 4)"
            ]
          },
          "metadata": {},
          "execution_count": 37
        }
      ],
      "source": [
        "df.shape"
      ]
    },
    {
      "cell_type": "markdown",
      "metadata": {
        "id": "QV3887bkrBXX"
      },
      "source": [
        "\n",
        "\n",
        "```\n",
        "# This is formatted as code\n",
        "```\n",
        "\n",
        "Univariate Analysis"
      ]
    },
    {
      "cell_type": "code",
      "execution_count": 38,
      "metadata": {
        "colab": {
          "base_uri": "https://localhost:8080/",
          "height": 573
        },
        "id": "6_VJsNKgjGYM",
        "outputId": "379b9545-cf66-4ae4-997a-2880f20ddbf5"
      },
      "outputs": [
        {
          "output_type": "execute_result",
          "data": {
            "text/plain": [
              "([<matplotlib.axis.XTick at 0x7f5d88420820>,\n",
              "  <matplotlib.axis.XTick at 0x7f5d884207f0>],\n",
              " [Text(0, 0, 'Non Spam'), Text(1, 0, 'Spam')])"
            ]
          },
          "metadata": {},
          "execution_count": 38
        },
        {
          "output_type": "display_data",
          "data": {
            "text/plain": [
              "<Figure size 800x600 with 1 Axes>"
            ],
            "image/png": "[encoded data removed]"
          },
          "metadata": {}
        }
      ],
      "source": [
        "df[\"SP_LABEL\"].value_counts().plot(kind='bar',figsize=(8,6),color ='pink')\n",
        "plt.xticks(np.arange(2),('Non Spam','Spam'),rotation=0)"
      ]
    },
    {
      "cell_type": "code",
      "execution_count": 39,
      "metadata": {
        "colab": {
          "base_uri": "https://localhost:8080/"
        },
        "id": "TuUQcfjCSt54",
        "outputId": "01daaa02-74b8-4576-cf70-0b2797bb65cd"
      },
      "outputs": [
        {
          "output_type": "stream",
          "name": "stdout",
          "text": [
            "Number of Spam records: 1499\n",
            "Number of Ham records: 3672\n"
          ]
        }
      ],
      "source": [
        "only_spam = df[df['label_num']==1]\n",
        "print('Number of Spam records: {}'.format(only_spam.shape[0]))\n",
        "print('Number of Ham records: {}'.format(df.shape[0]-only_spam.shape[0]))"
      ]
    },
    {
      "cell_type": "code",
      "execution_count": 40,
      "metadata": {
        "id": "PnQtng9OUmIQ"
      },
      "outputs": [],
      "source": [
        "# Creating new feature word_count\n",
        "df['word_count'] = df['SP_TEXT'].apply(lambda x: len(x.split()))"
      ]
    },
    {
      "cell_type": "code",
      "execution_count": 41,
      "metadata": {
        "colab": {
          "base_uri": "https://localhost:8080/",
          "height": 859
        },
        "id": "XIeA4dY5UPIN",
        "outputId": "fc8dbee9-7cea-414e-b0c0-9c76e74f5924"
      },
      "outputs": [
        {
          "output_type": "stream",
          "name": "stderr",
          "text": [
            "<ipython-input-41-ff21c60f164b>:5: UserWarning: \n",
            "\n",
            "`distplot` is a deprecated function and will be removed in seaborn v0.14.0.\n",
            "\n",
            "Please adapt your code to use either `displot` (a figure-level function with\n",
            "similar flexibility) or `histplot` (an axes-level function for histograms).\n",
            "\n",
            "For a guide to updating your code to use the new functions, please see\n",
            "https://gist.github.com/mwaskom/de44147ed2974457ad6372750bbe5751\n",
            "\n",
            "  g = sns.distplot(a=df[df['label_num']==0].word_count)\n",
            "<ipython-input-41-ff21c60f164b>:10: UserWarning: \n",
            "\n",
            "`distplot` is a deprecated function and will be removed in seaborn v0.14.0.\n",
            "\n",
            "Please adapt your code to use either `displot` (a figure-level function with\n",
            "similar flexibility) or `histplot` (an axes-level function for histograms).\n",
            "\n",
            "For a guide to updating your code to use the new functions, please see\n",
            "https://gist.github.com/mwaskom/de44147ed2974457ad6372750bbe5751\n",
            "\n",
            "  g = sns.distplot(a=df[df['label_num']==1].word_count, color='red')\n"
          ]
        },
        {
          "output_type": "display_data",
          "data": {
            "text/plain": [
              "<Figure size 1200x600 with 2 Axes>"
            ],
            "image/png": "[encoded data removed]"
          },
          "metadata": {}
        }
      ],
      "source": [
        "plt.figure(figsize=(12, 6))\n",
        "\n",
        "# 1-row, 2-column, go to the first subplot\n",
        "plt.subplot(1, 2, 1)\n",
        "g = sns.distplot(a=df[df['label_num']==0].word_count)\n",
        "p = plt.title('Distribution of word_count for Ham messages')\n",
        "\n",
        "# 1-row, 2-column, go to the second subplot\n",
        "plt.subplot(1, 2, 2)\n",
        "g = sns.distplot(a=df[df['label_num']==1].word_count, color='red')\n",
        "p = plt.title('Distribution of word_count for Spam messages')\n",
        "\n",
        "plt.tight_layout()\n",
        "plt.show()\n"
      ]
    },
    {
      "cell_type": "markdown",
      "metadata": {
        "id": "ysFoiyj4rTcS"
      },
      "source": [
        "Scaling The Data"
      ]
    },
    {
      "cell_type": "code",
      "execution_count": 42,
      "metadata": {
        "id": "qzUdVh01jtTR"
      },
      "outputs": [],
      "source": [
        "from sklearn.preprocessing import StandardScaler\n",
        "sc=StandardScaler()\n",
        "X=sc.fit_transform(X)"
      ]
    },
    {
      "cell_type": "markdown",
      "metadata": {
        "id": "1CYOumRLre4z"
      },
      "source": [
        "Splitng Data into Train and Test"
      ]
    },
    {
      "cell_type": "code",
      "execution_count": 43,
      "metadata": {
        "id": "bRR3epcCkRvP"
      },
      "outputs": [],
      "source": [
        "from sklearn.model_selection import train_test_split\n",
        "X_train,X_test,y_train,y_test=train_test_split(X,y,test_size=0.20,random_state=0)"
      ]
    },
    {
      "cell_type": "code",
      "execution_count": 44,
      "metadata": {
        "colab": {
          "base_uri": "https://localhost:8080/",
          "height": 466
        },
        "id": "ZJ3q2YvHk09G",
        "outputId": "6b5359f0-5f97-4bbe-97a2-29fa4c390d4f"
      },
      "outputs": [
        {
          "output_type": "execute_result",
          "data": {
            "text/plain": [
              "<Axes: xlabel='SP_LABEL', ylabel='Length'>"
            ]
          },
          "metadata": {},
          "execution_count": 44
        },
        {
          "output_type": "display_data",
          "data": {
            "text/plain": [
              "<Figure size 640x480 with 1 Axes>"
            ],
            "image/png": "[encoded data removed]"
          },
          "metadata": {}
        }
      ],
      "source": [
        "df_visualizations=df.copy()\n",
        "df_visualizations[\"Length\"]=df_visualizations[\"SP_TEXT\"].apply(lambda x:len(x))\n",
        "sns.violinplot(x=\"SP_LABEL\",y=\"Length\", data=df_visualizations)"
      ]
    },
    {
      "cell_type": "code",
      "execution_count": 45,
      "metadata": {
        "colab": {
          "base_uri": "https://localhost:8080/",
          "height": 447
        },
        "id": "4plzZPiOgzkN",
        "outputId": "c59b96d6-3117-482c-b8de-a62c1a5f455f"
      },
      "outputs": [
        {
          "output_type": "execute_result",
          "data": {
            "text/plain": [
              "<Axes: >"
            ]
          },
          "metadata": {},
          "execution_count": 45
        },
        {
          "output_type": "display_data",
          "data": {
            "text/plain": [
              "<Figure size 640x480 with 1 Axes>"
            ],
            "image/png": "[encoded data removed]"
          },
          "metadata": {}
        }
      ],
      "source": [
        "sns.boxplot(df['SP_LABEL'],color='violet')"
      ]
    },
    {
      "cell_type": "code",
      "execution_count": 46,
      "metadata": {
        "colab": {
          "base_uri": "https://localhost:8080/",
          "height": 506
        },
        "id": "l0jz5f0rgLJu",
        "outputId": "293459b5-63d7-48a3-f3b2-9a6ffb757097"
      },
      "outputs": [
        {
          "output_type": "stream",
          "name": "stderr",
          "text": [
            "<ipython-input-46-8df7bcac526d>:1: FutureWarning: The default value of numeric_only in DataFrame.corr is deprecated. In a future version, it will default to False. Select only valid columns or specify the value of numeric_only to silence this warning.\n",
            "  sns.heatmap(df.corr(),annot=True)\n"
          ]
        },
        {
          "output_type": "execute_result",
          "data": {
            "text/plain": [
              "<Axes: >"
            ]
          },
          "metadata": {},
          "execution_count": 46
        },
        {
          "output_type": "display_data",
          "data": {
            "text/plain": [
              "<Figure size 640x480 with 2 Axes>"
            ],
            "image/png": "[encoded data removed]"
          },
          "metadata": {}
        }
      ],
      "source": [
        "sns.heatmap(df.corr(),annot=True)"
      ]
    },
    {
      "cell_type": "markdown",
      "metadata": {
        "id": "2do9tK-rtLl9"
      },
      "source": [
        "MODEL BUILDING"
      ]
    },
    {
      "cell_type": "markdown",
      "metadata": {
        "id": "MF5-pbcIsx4X"
      },
      "source": [
        "Decision Tree Model"
      ]
    },
    {
      "cell_type": "code",
      "execution_count": null,
      "metadata": {
        "id": "qZ76bLU1nCrr"
      },
      "outputs": [],
      "source": [
        "#Model Building\n",
        "from sklearn.tree import DecisionTreeClassifier\n",
        "model=DecisionTreeClassifier()\n",
        "model.fit(X_train_res,y_train_res)"
      ]
    },
    {
      "cell_type": "code",
      "execution_count": null,
      "metadata": {
        "id": "A9Ao0i9Z409R"
      },
      "outputs": [],
      "source": [
        "from sklearn.ensemble import RandomForestClassifier\n",
        "model1=RandomForestClassifier()\n",
        "model1.fit(X_train_res,y_train_res)"
      ]
    },
    {
      "cell_type": "markdown",
      "metadata": {
        "id": "CkXK4OpxwKfO"
      },
      "source": [
        "Naïve Bayes model\n"
      ]
    },
    {
      "cell_type": "code",
      "execution_count": null,
      "metadata": {
        "id": "ETTMPZAxplcV"
      },
      "outputs": [],
      "source": [
        "[50] #Naive Bayee model\n",
        "from sklearn.naive_bayes import MultinomialNB\n",
        "model =MultinomialNB()"
      ]
    },
    {
      "cell_type": "code",
      "execution_count": null,
      "metadata": {
        "id": "LuFfmcKs0_by"
      },
      "outputs": [],
      "source": [
        "model.fit(X_train_res, y_train_res)"
      ]
    },
    {
      "cell_type": "code",
      "execution_count": null,
      "metadata": {
        "id": "I4PerIzHf35g"
      },
      "outputs": [],
      "source": [
        "from sklearn.model_selection import cross_val_score\n",
        "from sklearn.metrics import classification_report, confusion_matrix\n",
        "from sklearn.model_selection import train_test_split\n"
      ]
    },
    {
      "cell_type": "code",
      "execution_count": null,
      "metadata": {
        "id": "a4kMyvZ3gAxB"
      },
      "outputs": [],
      "source": [
        "X_train, X_test, y_train, y_test = train_test_split(X, y, test_size=0.2, random_state=42)"
      ]
    },
    {
      "cell_type": "code",
      "execution_count": null,
      "metadata": {
        "id": "-2B6FTb_gGLR"
      },
      "outputs": [],
      "source": [
        "from sklearn.tree import DecisionTreeClassifier\n",
        "dt = DecisionTreeClassifier()\n",
        "dt.fit(X_train, y_train)\n",
        "y_pred = dt.predict(X_test)\n",
        "\n",
        "print('--- Classification report for Decision Tree model ---')\n",
        "print(classification_report(y_test, y_pred))"
      ]
    },
    {
      "cell_type": "code",
      "execution_count": null,
      "metadata": {
        "id": "OYzkQ_bshnfU"
      },
      "outputs": [],
      "source": [
        "# Confusion matrix of Decision Tree model\n",
        "cm = confusion_matrix(y_test, y_pred)\n",
        "\n",
        "plt.figure(figsize=(8,5))\n",
        "axis_labels = ['ham', 'spam']\n",
        "g = sns.heatmap(data=cm, annot=True, cmap=\"Blues\", xticklabels=axis_labels, yticklabels=axis_labels, fmt='g', cbar_kws={\"shrink\": 0.5})\n",
        "p = plt.xlabel('Actual values')\n",
        "p = plt.ylabel('Predicted values')\n",
        "p = plt.title('--- Confusion Matrix for Decision Tree model ---')"
      ]
    },
    {
      "cell_type": "code",
      "execution_count": null,
      "metadata": {
        "id": "m8s1lLEqh072"
      },
      "outputs": [],
      "source": [
        "# Classification report for Random Forest model\n",
        "rf = RandomForestClassifier(n_estimators=20)\n",
        "rf.fit(X_train, y_train)\n",
        "y_pred = rf.predict(X_test)\n",
        "\n",
        "print('--- Classification report for Random Forest model ---')\n",
        "print(classification_report(y_test, y_pred))\n"
      ]
    },
    {
      "cell_type": "code",
      "execution_count": null,
      "metadata": {
        "id": "baZdgmzkiDzb"
      },
      "outputs": [],
      "source": [
        "cm = confusion_matrix(y_test, y_pred)\n",
        "\n",
        "plt.figure(figsize=(8,5))\n",
        "axis_labels = ['ham', 'spam']\n",
        "g = sns.heatmap(data=cm, annot=True, cmap=\"Blues\", xticklabels=axis_labels, yticklabels=axis_labels, fmt='g', cbar_kws={\"shrink\": 0.5})\n",
        "p = plt.xlabel('Actual values')\n",
        "p = plt.ylabel('Predicted values')\n",
        "p = plt.title('--- Confusion Matrix for Random Forest model ---')"
      ]
    },
    {
      "cell_type": "code",
      "execution_count": null,
      "metadata": {
        "id": "45r08igAZhQT"
      },
      "outputs": [],
      "source": [
        "categorical = [var for var in df.columns if df[var].dtype=='O']\n",
        "df[categorical].isnull().sum()"
      ]
    },
    {
      "cell_type": "code",
      "execution_count": null,
      "metadata": {
        "id": "MhWY-u8AZ7w3"
      },
      "outputs": [],
      "source": [
        "for var in categorical: \n",
        "    \n",
        "    print(df[var].value_counts())"
      ]
    },
    {
      "cell_type": "code",
      "execution_count": null,
      "metadata": {
        "id": "Cd_tG7H0aoOX"
      },
      "outputs": [],
      "source": [
        "numerical = [var for var in df.columns if df[var].dtype!='O']\n",
        "\n",
        "print('There are {} numerical variables\\n'.format(len(numerical)))\n",
        "\n",
        "print('The numerical variables are :', numerical)"
      ]
    },
    {
      "cell_type": "code",
      "execution_count": null,
      "metadata": {
        "id": "NHsHWv44aw4l"
      },
      "outputs": [],
      "source": [
        "df[numerical].head()"
      ]
    },
    {
      "cell_type": "markdown",
      "metadata": {
        "id": "_SjY3HBcwlh-"
      },
      "source": [
        " ANN model"
      ]
    },
    {
      "cell_type": "code",
      "execution_count": null,
      "metadata": {
        "id": "Q5pVPCfWqjs8"
      },
      "outputs": [],
      "source": [
        "from tensorflow.keras.models import Sequential\n",
        "from tensorflow.keras.layers import Dense\n"
      ]
    },
    {
      "cell_type": "code",
      "execution_count": null,
      "metadata": {
        "id": "mnTCnloRrDz4"
      },
      "outputs": [],
      "source": [
        "model=Sequential()"
      ]
    },
    {
      "cell_type": "code",
      "execution_count": null,
      "metadata": {
        "id": "37C34u8vrSQB"
      },
      "outputs": [],
      "source": [
        "X_train.shape"
      ]
    },
    {
      "cell_type": "code",
      "execution_count": null,
      "metadata": {
        "id": "XUxQKcXgrXSg"
      },
      "outputs": [],
      "source": [
        "model.add(Dense(units=X_train_res.shape[1],activation='relu',kernel_initializer=\"random_uniform\"))"
      ]
    },
    {
      "cell_type": "code",
      "execution_count": null,
      "metadata": {
        "id": "Gom0kDzwrwRZ"
      },
      "outputs": [],
      "source": [
        "model.add(Dense(units=100,activation=\"relu\",kernel_initializer=\"random_uniform\"))"
      ]
    },
    {
      "cell_type": "code",
      "execution_count": null,
      "metadata": {
        "id": "pnb3MHYxsMFu"
      },
      "outputs": [],
      "source": [
        "model.add(Dense(units=100,activation=\"relu\",kernel_initializer=\"random_uniform\"))"
      ]
    },
    {
      "cell_type": "code",
      "execution_count": null,
      "metadata": {
        "id": "yk8XZneTtHL6"
      },
      "outputs": [],
      "source": [
        "model.add(Dense(units=100,activation=\"sigmoid\"))"
      ]
    },
    {
      "cell_type": "code",
      "execution_count": null,
      "metadata": {
        "id": "Dqa1wKxctWFQ"
      },
      "outputs": [],
      "source": [
        "model.compile(optimizer=\"adam\",loss=\"binary_crossentropy\",metrics=['accuracy'])"
      ]
    },
    {
      "cell_type": "code",
      "execution_count": null,
      "metadata": {
        "id": "STpy_Dc1ve6Y"
      },
      "outputs": [],
      "source": [
        "import numpy as np\n",
        "y_pr=np.where(y_pred>0.5,1,0)"
      ]
    },
    {
      "cell_type": "code",
      "execution_count": null,
      "metadata": {
        "id": "ikUI_aAOGOBG"
      },
      "outputs": [],
      "source": [
        "y_pred=model.predict(X_test)"
      ]
    },
    {
      "cell_type": "code",
      "execution_count": null,
      "metadata": {
        "id": "TMMvRrpXSOf9"
      },
      "outputs": [],
      "source": [
        "y_test"
      ]
    },
    {
      "cell_type": "code",
      "execution_count": null,
      "metadata": {
        "id": "8gpx0Dmqu0Qj"
      },
      "outputs": [],
      "source": [
        "import re\n",
        "from keras.models import load_model \n",
        "def new_review(new_review):\n",
        "  new_review=new_review\n",
        "  new_review=re.sub('[^a-zA-Z]', ' ',new_review)\n",
        "  new_review=new_review.lower()\n",
        "  new_review=new_review.split()\n",
        "  ps=PorterStemmer()\n",
        "  all_stopwords=stopwords.words('english')\n",
        "  all_stopwords.remove('not')\n",
        "  new_review=[ps.stem(word)for word in new_review if not word in set(all_stopwords)]\n",
        "  new_review=' '.join(new_review)\n",
        "  new_corpus=[new_review]\n",
        "  new_X_test=cv.transform(new_corpus).toarray()\n",
        "  print(new_X_test)\n",
        "  new_y_pred=loaded_model(new_X_test)\n",
        "  print(new_y_pred)\n",
        "  new_X_pred=np.where(new_y_predict>0,5,1,0)\n",
        "  return new_y_predict\n",
        "  new_review=new_review(str(input(\"enter the new review...\")))\n"
      ]
    },
    {
      "cell_type": "markdown",
      "metadata": {
        "id": "0-q6isa6fL24"
      },
      "source": [
        "PERFORMANCE TESTING & HYPERPARAMETER TUNING\n",
        "\n",
        "---\n",
        "\n"
      ]
    },
    {
      "cell_type": "code",
      "execution_count": null,
      "metadata": {
        "id": "kWmRCc2DUUsz"
      },
      "outputs": [],
      "source": [
        "from sklearn.metrics import confusion_matrix,accuracy_score\n",
        "cm=confusion_matrix(y_test,y_pr)\n",
        "score=accuracy_score(y_test,y_pr)\n",
        "print(cm)\n",
        "print(\"Accuracy Score Is:-\",score*100)"
      ]
    },
    {
      "cell_type": "code",
      "execution_count": null,
      "metadata": {
        "id": "KWyezDz1CkAL"
      },
      "outputs": [],
      "source": [
        "import pickle\n",
        "pickle.dump(model,open('cv1.pkl','wb'))"
      ]
    }
  ],
  "metadata": {
    "colab": {
      "provenance": []
    },
    "kernelspec": {
      "display_name": "Python 3",
      "name": "python3"
    },
    "language_info": {
      "name": "python"
    }
  },
  "nbformat": 4,
  "nbformat_minor": 0
}